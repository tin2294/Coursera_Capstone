{
    "cells": [
        {
            "cell_type": "code",
            "execution_count": 84,
            "metadata": {},
            "outputs": [],
            "source": "import pandas as pd\nimport numpy as np\nimport requests\n#!conda install -c conda-forge folium=0.5.0 --yes\n#import folium\n\nimport matplotlib.cm as cm\nimport matplotlib.colors as colors\n\nfrom sklearn.cluster import KMeans"
        },
        {
            "cell_type": "markdown",
            "metadata": {},
            "source": "# Wrangling Callejero Data Set"
        },
        {
            "cell_type": "markdown",
            "metadata": {},
            "source": "### This data set will give us latitude and longitude information for each neighborhood"
        },
        {
            "cell_type": "code",
            "execution_count": 2,
            "metadata": {},
            "outputs": [],
            "source": "s = 'https://datos.madrid.es/egob/catalogo/200075-1-callejero.csv'\n\n#s = 'http://samplecsvs.s3.amazonaws.com/Sacramentorealestatetransactions.csv'"
        },
        {
            "cell_type": "code",
            "execution_count": 3,
            "metadata": {},
            "outputs": [],
            "source": "df = pd.read_csv(s, encoding='latin-1', error_bad_lines=False, sep=';')"
        },
        {
            "cell_type": "code",
            "execution_count": 4,
            "metadata": {},
            "outputs": [],
            "source": "#c=pd.read_csv(s)"
        },
        {
            "cell_type": "code",
            "execution_count": 5,
            "metadata": {},
            "outputs": [],
            "source": "#c.head()"
        },
        {
            "cell_type": "code",
            "execution_count": 6,
            "metadata": {
                "scrolled": true
            },
            "outputs": [
                {
                    "data": {
                        "text/html": "<div>\n<style scoped>\n    .dataframe tbody tr th:only-of-type {\n        vertical-align: middle;\n    }\n\n    .dataframe tbody tr th {\n        vertical-align: top;\n    }\n\n    .dataframe thead th {\n        text-align: right;\n    }\n</style>\n<table border=\"1\" class=\"dataframe\">\n  <thead>\n    <tr style=\"text-align: right;\">\n      <th></th>\n      <th>Codigo de numero</th>\n      <th>Codigo de via</th>\n      <th>Clase de la via</th>\n      <th>Part\u00edcula de la v\u00eda</th>\n      <th>Nombre de la v\u00eda</th>\n      <th>Literal de numeracion</th>\n      <th>Codigo de distrito</th>\n      <th>Nombre del distrito</th>\n      <th>Codigo de barrio</th>\n      <th>Nombre del barrio</th>\n      <th>...</th>\n      <th>Coordenada X (Guia Urbana) cm</th>\n      <th>Coordenada Y (Guia Urbana) cm</th>\n      <th>Longitud en S R  ETRS89 WGS84</th>\n      <th>Latitud en S R  ETRS89 WGS84</th>\n      <th>Tipo de la via a la que pertenece el numero</th>\n      <th>Situacion de la via respecto al terreno</th>\n      <th>Tipo de denominacion de la via</th>\n      <th>Parcela catastral del numero</th>\n      <th>Tipologia del numero</th>\n      <th>Zona de valor del numero</th>\n    </tr>\n  </thead>\n  <tbody>\n    <tr>\n      <th>0</th>\n      <td>31031089</td>\n      <td>31001337</td>\n      <td>AUTOVIA</td>\n      <td></td>\n      <td>A-1</td>\n      <td>KM.001000EN</td>\n      <td>8</td>\n      <td>FUENCARRAL-EL PARDO</td>\n      <td>6</td>\n      <td>VALVERDE</td>\n      <td>...</td>\n      <td>44305633</td>\n      <td>448250340</td>\n      <td>3\u00ba40'23.6'' W</td>\n      <td>40\u00ba29'21.82'' N</td>\n      <td>Top\u00f3nimo</td>\n      <td>Nivel</td>\n      <td>Admon</td>\n      <td></td>\n      <td>Parcela</td>\n      <td>R21S</td>\n    </tr>\n    <tr>\n      <th>1</th>\n      <td>31031088</td>\n      <td>31001337</td>\n      <td>AUTOVIA</td>\n      <td></td>\n      <td>A-1</td>\n      <td>KM.001000SA</td>\n      <td>16</td>\n      <td>HORTALEZA</td>\n      <td>6</td>\n      <td>VALDEFUENTES</td>\n      <td>...</td>\n      <td>44312246</td>\n      <td>448249077</td>\n      <td>3\u00ba40'20.75'' W</td>\n      <td>40\u00ba29'21.45'' N</td>\n      <td>Top\u00f3nimo</td>\n      <td>Nivel</td>\n      <td>Admon</td>\n      <td></td>\n      <td>Parcela</td>\n      <td>R21N</td>\n    </tr>\n    <tr>\n      <th>2</th>\n      <td>31031091</td>\n      <td>31001337</td>\n      <td>AUTOVIA</td>\n      <td></td>\n      <td>A-1</td>\n      <td>KM.001100EN</td>\n      <td>8</td>\n      <td>FUENCARRAL-EL PARDO</td>\n      <td>6</td>\n      <td>VALVERDE</td>\n      <td>...</td>\n      <td>44367522</td>\n      <td>448330933</td>\n      <td>3\u00ba39'57.57'' W</td>\n      <td>40\u00ba29'48.11'' N</td>\n      <td>Top\u00f3nimo</td>\n      <td>Nivel</td>\n      <td>Admon</td>\n      <td></td>\n      <td>Parcela</td>\n      <td>R21S</td>\n    </tr>\n    <tr>\n      <th>3</th>\n      <td>31031090</td>\n      <td>31001337</td>\n      <td>AUTOVIA</td>\n      <td></td>\n      <td>A-1</td>\n      <td>KM.001100SA</td>\n      <td>16</td>\n      <td>HORTALEZA</td>\n      <td>6</td>\n      <td>VALDEFUENTES</td>\n      <td>...</td>\n      <td>44373755</td>\n      <td>448325151</td>\n      <td>3\u00ba39'54.87'' W</td>\n      <td>40\u00ba29'46.28'' N</td>\n      <td>Top\u00f3nimo</td>\n      <td>Nivel</td>\n      <td>Admon</td>\n      <td></td>\n      <td>Parcela</td>\n      <td>R21R</td>\n    </tr>\n    <tr>\n      <th>4</th>\n      <td>31031093</td>\n      <td>31001337</td>\n      <td>AUTOVIA</td>\n      <td></td>\n      <td>A-1</td>\n      <td>KM.001200EN</td>\n      <td>8</td>\n      <td>FUENCARRAL-EL PARDO</td>\n      <td>6</td>\n      <td>VALVERDE</td>\n      <td>...</td>\n      <td>44425207</td>\n      <td>448408185</td>\n      <td>3\u00ba39'33.3'' W</td>\n      <td>40\u00ba30'13.32'' N</td>\n      <td>Top\u00f3nimo</td>\n      <td>Nivel</td>\n      <td>Admon</td>\n      <td></td>\n      <td>Parcela</td>\n      <td>R21O</td>\n    </tr>\n  </tbody>\n</table>\n<p>5 rows \u00d7 26 columns</p>\n</div>",
                        "text/plain": "   Codigo de numero  Codigo de via           Clase de la via  \\\n0          31031089       31001337  AUTOVIA                    \n1          31031088       31001337  AUTOVIA                    \n2          31031091       31001337  AUTOVIA                    \n3          31031090       31001337  AUTOVIA                    \n4          31031093       31001337  AUTOVIA                    \n\n  Part\u00edcula de la v\u00eda                                  Nombre de la v\u00eda  \\\n0                      A-1                                                \n1                      A-1                                                \n2                      A-1                                                \n3                      A-1                                                \n4                      A-1                                                \n\n  Literal de numeracion  Codigo de distrito   Nombre del distrito  \\\n0           KM.001000EN                   8  FUENCARRAL-EL PARDO    \n1           KM.001000SA                  16  HORTALEZA              \n2           KM.001100EN                   8  FUENCARRAL-EL PARDO    \n3           KM.001100SA                  16  HORTALEZA              \n4           KM.001200EN                   8  FUENCARRAL-EL PARDO    \n\n   Codigo de barrio     Nombre del barrio  ...  Coordenada X (Guia Urbana) cm  \\\n0                 6  VALVERDE              ...                       44305633   \n1                 6  VALDEFUENTES          ...                       44312246   \n2                 6  VALVERDE              ...                       44367522   \n3                 6  VALDEFUENTES          ...                       44373755   \n4                 6  VALVERDE              ...                       44425207   \n\n   Coordenada Y (Guia Urbana) cm Longitud en S R  ETRS89 WGS84  \\\n0                      448250340              3\u00ba40'23.6'' W      \n1                      448249077              3\u00ba40'20.75'' W     \n2                      448330933              3\u00ba39'57.57'' W     \n3                      448325151              3\u00ba39'54.87'' W     \n4                      448408185              3\u00ba39'33.3'' W      \n\n   Latitud en S R  ETRS89 WGS84  Tipo de la via a la que pertenece el numero  \\\n0              40\u00ba29'21.82'' N                               Top\u00f3nimo          \n1              40\u00ba29'21.45'' N                               Top\u00f3nimo          \n2              40\u00ba29'48.11'' N                               Top\u00f3nimo          \n3              40\u00ba29'46.28'' N                               Top\u00f3nimo          \n4              40\u00ba30'13.32'' N                               Top\u00f3nimo          \n\n  Situacion de la via respecto al terreno  Tipo de denominacion de la via  \\\n0                             Nivel                                 Admon   \n1                             Nivel                                 Admon   \n2                             Nivel                                 Admon   \n3                             Nivel                                 Admon   \n4                             Nivel                                 Admon   \n\n   Parcela catastral del numero      Tipologia del numero  \\\n0                                Parcela                    \n1                                Parcela                    \n2                                Parcela                    \n3                                Parcela                    \n4                                Parcela                    \n\n  Zona de valor del numero  \n0     R21S                  \n1     R21N                  \n2     R21S                  \n3     R21R                  \n4     R21O                  \n\n[5 rows x 26 columns]"
                    },
                    "execution_count": 6,
                    "metadata": {},
                    "output_type": "execute_result"
                }
            ],
            "source": "df.head()"
        },
        {
            "cell_type": "code",
            "execution_count": 7,
            "metadata": {},
            "outputs": [],
            "source": "callejero = df.filter(['Nombre del distrito','Longitud en S R  ETRS89 WGS84','Latitud en S R  ETRS89 WGS84'], axis=1)"
        },
        {
            "cell_type": "code",
            "execution_count": 8,
            "metadata": {},
            "outputs": [
                {
                    "data": {
                        "text/html": "<div>\n<style scoped>\n    .dataframe tbody tr th:only-of-type {\n        vertical-align: middle;\n    }\n\n    .dataframe tbody tr th {\n        vertical-align: top;\n    }\n\n    .dataframe thead th {\n        text-align: right;\n    }\n</style>\n<table border=\"1\" class=\"dataframe\">\n  <thead>\n    <tr style=\"text-align: right;\">\n      <th></th>\n      <th>Nombre del distrito</th>\n      <th>Longitud en S R  ETRS89 WGS84</th>\n      <th>Latitud en S R  ETRS89 WGS84</th>\n    </tr>\n  </thead>\n  <tbody>\n    <tr>\n      <th>0</th>\n      <td>FUENCARRAL-EL PARDO</td>\n      <td>3\u00ba40'23.6'' W</td>\n      <td>40\u00ba29'21.82'' N</td>\n    </tr>\n    <tr>\n      <th>1</th>\n      <td>HORTALEZA</td>\n      <td>3\u00ba40'20.75'' W</td>\n      <td>40\u00ba29'21.45'' N</td>\n    </tr>\n    <tr>\n      <th>2</th>\n      <td>FUENCARRAL-EL PARDO</td>\n      <td>3\u00ba39'57.57'' W</td>\n      <td>40\u00ba29'48.11'' N</td>\n    </tr>\n    <tr>\n      <th>3</th>\n      <td>HORTALEZA</td>\n      <td>3\u00ba39'54.87'' W</td>\n      <td>40\u00ba29'46.28'' N</td>\n    </tr>\n    <tr>\n      <th>4</th>\n      <td>FUENCARRAL-EL PARDO</td>\n      <td>3\u00ba39'33.3'' W</td>\n      <td>40\u00ba30'13.32'' N</td>\n    </tr>\n  </tbody>\n</table>\n</div>",
                        "text/plain": "    Nombre del distrito Longitud en S R  ETRS89 WGS84  \\\n0  FUENCARRAL-EL PARDO               3\u00ba40'23.6'' W      \n1  HORTALEZA                         3\u00ba40'20.75'' W     \n2  FUENCARRAL-EL PARDO               3\u00ba39'57.57'' W     \n3  HORTALEZA                         3\u00ba39'54.87'' W     \n4  FUENCARRAL-EL PARDO               3\u00ba39'33.3'' W      \n\n  Latitud en S R  ETRS89 WGS84  \n0             40\u00ba29'21.82'' N   \n1             40\u00ba29'21.45'' N   \n2             40\u00ba29'48.11'' N   \n3             40\u00ba29'46.28'' N   \n4             40\u00ba30'13.32'' N   "
                    },
                    "execution_count": 8,
                    "metadata": {},
                    "output_type": "execute_result"
                }
            ],
            "source": "callejero.head()"
        },
        {
            "cell_type": "code",
            "execution_count": 9,
            "metadata": {
                "scrolled": true
            },
            "outputs": [
                {
                    "data": {
                        "text/plain": "(207842, 3)"
                    },
                    "execution_count": 9,
                    "metadata": {},
                    "output_type": "execute_result"
                }
            ],
            "source": "callejero.shape"
        },
        {
            "cell_type": "code",
            "execution_count": 10,
            "metadata": {},
            "outputs": [],
            "source": "callejero.columns = ['Distrito','Longitud','Latitud']"
        },
        {
            "cell_type": "code",
            "execution_count": 11,
            "metadata": {},
            "outputs": [
                {
                    "data": {
                        "text/html": "<div>\n<style scoped>\n    .dataframe tbody tr th:only-of-type {\n        vertical-align: middle;\n    }\n\n    .dataframe tbody tr th {\n        vertical-align: top;\n    }\n\n    .dataframe thead th {\n        text-align: right;\n    }\n</style>\n<table border=\"1\" class=\"dataframe\">\n  <thead>\n    <tr style=\"text-align: right;\">\n      <th></th>\n      <th>Distrito</th>\n      <th>Longitud</th>\n      <th>Latitud</th>\n    </tr>\n  </thead>\n  <tbody>\n    <tr>\n      <th>0</th>\n      <td>FUENCARRAL-EL PARDO</td>\n      <td>3\u00ba40'23.6'' W</td>\n      <td>40\u00ba29'21.82'' N</td>\n    </tr>\n    <tr>\n      <th>1</th>\n      <td>HORTALEZA</td>\n      <td>3\u00ba40'20.75'' W</td>\n      <td>40\u00ba29'21.45'' N</td>\n    </tr>\n    <tr>\n      <th>2</th>\n      <td>FUENCARRAL-EL PARDO</td>\n      <td>3\u00ba39'57.57'' W</td>\n      <td>40\u00ba29'48.11'' N</td>\n    </tr>\n    <tr>\n      <th>3</th>\n      <td>HORTALEZA</td>\n      <td>3\u00ba39'54.87'' W</td>\n      <td>40\u00ba29'46.28'' N</td>\n    </tr>\n    <tr>\n      <th>4</th>\n      <td>FUENCARRAL-EL PARDO</td>\n      <td>3\u00ba39'33.3'' W</td>\n      <td>40\u00ba30'13.32'' N</td>\n    </tr>\n  </tbody>\n</table>\n</div>",
                        "text/plain": "               Distrito          Longitud           Latitud\n0  FUENCARRAL-EL PARDO   3\u00ba40'23.6'' W     40\u00ba29'21.82'' N \n1  HORTALEZA             3\u00ba40'20.75'' W    40\u00ba29'21.45'' N \n2  FUENCARRAL-EL PARDO   3\u00ba39'57.57'' W    40\u00ba29'48.11'' N \n3  HORTALEZA             3\u00ba39'54.87'' W    40\u00ba29'46.28'' N \n4  FUENCARRAL-EL PARDO   3\u00ba39'33.3'' W     40\u00ba30'13.32'' N "
                    },
                    "execution_count": 11,
                    "metadata": {},
                    "output_type": "execute_result"
                }
            ],
            "source": "callejero.head()"
        },
        {
            "cell_type": "markdown",
            "metadata": {},
            "source": "### Ejemplo para sacar una longitud"
        },
        {
            "cell_type": "code",
            "execution_count": 12,
            "metadata": {},
            "outputs": [
                {
                    "name": "stdout",
                    "output_type": "stream",
                    "text": "3\u00ba39'57.57'' W  \n"
                }
            ],
            "source": "print(callejero.iloc[2]['Longitud'])"
        },
        {
            "cell_type": "code",
            "execution_count": 13,
            "metadata": {},
            "outputs": [
                {
                    "data": {
                        "text/plain": "-3.6659916666666668"
                    },
                    "execution_count": 13,
                    "metadata": {},
                    "output_type": "execute_result"
                }
            ],
            "source": "import re\nlat = callejero.iloc[2]['Longitud']\ndeg, part2 =  re.split('\u00ba', lat)\nmins,secs,none,di= part2.replace(\"'\", \"-\").split(\"-\")\ndi2 = \" \".join(re.findall(\"[a-zA-Z]+\", di))\n(float(deg) + float(mins)/60 + float(secs)/(60*60)) * (-1 if di2 in ['W', 'S'] else 1)"
        },
        {
            "cell_type": "code",
            "execution_count": 14,
            "metadata": {},
            "outputs": [],
            "source": "#import re\n#lat = callejero.iloc[2]['Longitud']\n#lat"
        },
        {
            "cell_type": "code",
            "execution_count": 15,
            "metadata": {},
            "outputs": [],
            "source": "#deg, part2 =  re.split('\u00ba', lat)\n#print(part2)"
        },
        {
            "cell_type": "code",
            "execution_count": 16,
            "metadata": {},
            "outputs": [],
            "source": "#mins,secs,none,di= part2.replace(\"'\", \"-\").split(\"-\")"
        },
        {
            "cell_type": "code",
            "execution_count": 17,
            "metadata": {},
            "outputs": [],
            "source": "#di2 = \" \".join(re.findall(\"[a-zA-Z]+\", di))\n#di2"
        },
        {
            "cell_type": "code",
            "execution_count": 18,
            "metadata": {},
            "outputs": [],
            "source": "#(float(deg) + float(mins)/60 + float(secs)/(60*60)) * (-1 if di2 in ['W', 'S'] else 1)"
        },
        {
            "cell_type": "code",
            "execution_count": 19,
            "metadata": {},
            "outputs": [],
            "source": "#(float(deg) + float(minutes)/60 + float(seconds)/(60*60)) * (-1 if direction in ['W', 'S'] else 1)"
        },
        {
            "cell_type": "code",
            "execution_count": 20,
            "metadata": {},
            "outputs": [],
            "source": "##import re\n##lat = '''51\u00ba36'9.18\"N'''\n##deg, minutes, seconds, direction =  re.split('[\u00ba\\'\"]', lat)\n##(float(deg) + float(minutes)/60 + float(seconds)/(60*60)) * (-1 if direction in ['W', 'S'] else 1)"
        },
        {
            "cell_type": "markdown",
            "metadata": {},
            "source": "Create an empty dataframe to start building the dataframe where coordinates are converted to the right format"
        },
        {
            "cell_type": "code",
            "execution_count": 21,
            "metadata": {},
            "outputs": [],
            "source": "test = callejero.head()"
        },
        {
            "cell_type": "code",
            "execution_count": 22,
            "metadata": {},
            "outputs": [
                {
                    "data": {
                        "text/html": "<div>\n<style scoped>\n    .dataframe tbody tr th:only-of-type {\n        vertical-align: middle;\n    }\n\n    .dataframe tbody tr th {\n        vertical-align: top;\n    }\n\n    .dataframe thead th {\n        text-align: right;\n    }\n</style>\n<table border=\"1\" class=\"dataframe\">\n  <thead>\n    <tr style=\"text-align: right;\">\n      <th></th>\n      <th>Distrito</th>\n      <th>Longitud</th>\n      <th>Latitud</th>\n    </tr>\n  </thead>\n  <tbody>\n    <tr>\n      <th>0</th>\n      <td>FUENCARRAL-EL PARDO</td>\n      <td>3\u00ba40'23.6'' W</td>\n      <td>40\u00ba29'21.82'' N</td>\n    </tr>\n    <tr>\n      <th>1</th>\n      <td>HORTALEZA</td>\n      <td>3\u00ba40'20.75'' W</td>\n      <td>40\u00ba29'21.45'' N</td>\n    </tr>\n    <tr>\n      <th>2</th>\n      <td>FUENCARRAL-EL PARDO</td>\n      <td>3\u00ba39'57.57'' W</td>\n      <td>40\u00ba29'48.11'' N</td>\n    </tr>\n    <tr>\n      <th>3</th>\n      <td>HORTALEZA</td>\n      <td>3\u00ba39'54.87'' W</td>\n      <td>40\u00ba29'46.28'' N</td>\n    </tr>\n    <tr>\n      <th>4</th>\n      <td>FUENCARRAL-EL PARDO</td>\n      <td>3\u00ba39'33.3'' W</td>\n      <td>40\u00ba30'13.32'' N</td>\n    </tr>\n  </tbody>\n</table>\n</div>",
                        "text/plain": "               Distrito          Longitud           Latitud\n0  FUENCARRAL-EL PARDO   3\u00ba40'23.6'' W     40\u00ba29'21.82'' N \n1  HORTALEZA             3\u00ba40'20.75'' W    40\u00ba29'21.45'' N \n2  FUENCARRAL-EL PARDO   3\u00ba39'57.57'' W    40\u00ba29'48.11'' N \n3  HORTALEZA             3\u00ba39'54.87'' W    40\u00ba29'46.28'' N \n4  FUENCARRAL-EL PARDO   3\u00ba39'33.3'' W     40\u00ba30'13.32'' N "
                    },
                    "execution_count": 22,
                    "metadata": {},
                    "output_type": "execute_result"
                }
            ],
            "source": "test.head()"
        },
        {
            "cell_type": "code",
            "execution_count": 23,
            "metadata": {
                "scrolled": true
            },
            "outputs": [
                {
                    "data": {
                        "text/html": "<div>\n<style scoped>\n    .dataframe tbody tr th:only-of-type {\n        vertical-align: middle;\n    }\n\n    .dataframe tbody tr th {\n        vertical-align: top;\n    }\n\n    .dataframe thead th {\n        text-align: right;\n    }\n</style>\n<table border=\"1\" class=\"dataframe\">\n  <thead>\n    <tr style=\"text-align: right;\">\n      <th></th>\n      <th>Distritos</th>\n      <th>Longitud</th>\n      <th>Latitud</th>\n    </tr>\n  </thead>\n  <tbody>\n    <tr>\n      <th>0</th>\n      <td>FUENCARRAL-EL PARDO</td>\n      <td>-3.673222</td>\n      <td>40.489394</td>\n    </tr>\n    <tr>\n      <th>1</th>\n      <td>HORTALEZA</td>\n      <td>-3.672431</td>\n      <td>40.489292</td>\n    </tr>\n    <tr>\n      <th>2</th>\n      <td>FUENCARRAL-EL PARDO</td>\n      <td>-3.665992</td>\n      <td>40.496697</td>\n    </tr>\n    <tr>\n      <th>3</th>\n      <td>HORTALEZA</td>\n      <td>-3.665242</td>\n      <td>40.496189</td>\n    </tr>\n    <tr>\n      <th>4</th>\n      <td>FUENCARRAL-EL PARDO</td>\n      <td>-3.659250</td>\n      <td>40.503700</td>\n    </tr>\n  </tbody>\n</table>\n</div>",
                        "text/plain": "              Distritos  Longitud    Latitud\n0  FUENCARRAL-EL PARDO  -3.673222  40.489394\n1  HORTALEZA            -3.672431  40.489292\n2  FUENCARRAL-EL PARDO  -3.665992  40.496697\n3  HORTALEZA            -3.665242  40.496189\n4  FUENCARRAL-EL PARDO  -3.659250  40.503700"
                    },
                    "execution_count": 23,
                    "metadata": {},
                    "output_type": "execute_result"
                }
            ],
            "source": "distritostest = pd.DataFrame()\ni=0\nfor row in test.iterrows():\n    rowIndex = test.index[i]\n    distritostest.loc[rowIndex, 'Distritos'] = test['Distrito'].values[i]\n    #distritostest['Distritos']=test['Distrito'].values[i]\n    \n    long = test['Longitud'].values[rowIndex]\n    deg, part2 =  re.split('\u00ba', long)\n    mins,secs,none,di= part2.replace(\"'\", \"-\").split(\"-\")\n    di2 = \" \".join(re.findall(\"[a-zA-Z]+\", di))\n    lon=(float(deg) + float(mins)/60 + float(secs)/(60*60)) * (-1 if di2 in ['W', 'S'] else 1)\n    distritostest.loc[rowIndex,'Longitud']=lon\n    \n    lat = test['Latitud'].values[rowIndex]\n    deg, part2 =  re.split('\u00ba', lat)\n    mins,secs,none,di= part2.replace(\"'\", \"-\").split(\"-\")\n    di2 = \" \".join(re.findall(\"[a-zA-Z]+\", di))\n    lati=(float(deg) + float(mins)/60 + float(secs)/(60*60)) * (-1 if di2 in ['W', 'S'] else 1)\n    distritostest.loc[rowIndex,'Latitud']=lati\n    \n    i = i+1\n\ndistritostest.head() "
        },
        {
            "cell_type": "code",
            "execution_count": 24,
            "metadata": {
                "scrolled": true
            },
            "outputs": [
                {
                    "data": {
                        "text/plain": "(5, 3)"
                    },
                    "execution_count": 24,
                    "metadata": {},
                    "output_type": "execute_result"
                }
            ],
            "source": "distritostest.shape "
        },
        {
            "cell_type": "markdown",
            "metadata": {},
            "source": "Cannot use following code to process and convert format of each of the rows of the entire dataset due to server limitations. Therefore, will be just fetching the first coordinate values of the district as all coordinates should be close within each other inside the district. Consequently, I will only be converting the first value to the desired format."
        },
        {
            "cell_type": "code",
            "execution_count": 25,
            "metadata": {},
            "outputs": [],
            "source": "#distritos = pd.DataFrame()\n#i=0\n#for row in callejero.iterrows():\n#    rowIndex = callejero.index[i]\n#    distritos.loc[rowIndex, 'Distritos'] = callejero['Distrito'].values[i]\n#    #distritostest['Distritos']=test['Distrito'].values[i]\n    \n#    long = callejero['Longitud'].values[rowIndex]\n#    deg, part2 =  re.split('\u00ba', long)\n#    mins,secs,none,di= part2.replace(\"'\", \"-\").split(\"-\")\n#    di2 = \" \".join(re.findall(\"[a-zA-Z]+\", di))\n#    lon=(float(deg) + float(mins)/60 + float(secs)/(60*60)) * (-1 if di2 in ['W', 'S'] else 1)\n#    distritos.loc[rowIndex,'Longitud']=lon\n    \n#    lat = callejero['Latitud'].values[rowIndex]\n#    deg, part2 =  re.split('\u00ba', lat)\n#    mins,secs,none,di= part2.replace(\"'\", \"-\").split(\"-\")\n#    di2 = \" \".join(re.findall(\"[a-zA-Z]+\", di))\n#    lati=(float(deg) + float(mins)/60 + float(secs)/(60*60)) * (-1 if di2 in ['W', 'S'] else 1)\n#    distritos.loc[rowIndex,'Latitud']=lati\n    \n#    i = i+1\n\n#distritos.head()   "
        },
        {
            "cell_type": "code",
            "execution_count": 26,
            "metadata": {},
            "outputs": [],
            "source": "longitudes = pd.DataFrame(callejero.groupby(['Distrito'])['Longitud'].first())"
        },
        {
            "cell_type": "code",
            "execution_count": 27,
            "metadata": {},
            "outputs": [
                {
                    "data": {
                        "text/html": "<div>\n<style scoped>\n    .dataframe tbody tr th:only-of-type {\n        vertical-align: middle;\n    }\n\n    .dataframe tbody tr th {\n        vertical-align: top;\n    }\n\n    .dataframe thead th {\n        text-align: right;\n    }\n</style>\n<table border=\"1\" class=\"dataframe\">\n  <thead>\n    <tr style=\"text-align: right;\">\n      <th></th>\n      <th>Longitud</th>\n    </tr>\n    <tr>\n      <th>Distrito</th>\n      <th></th>\n    </tr>\n  </thead>\n  <tbody>\n    <tr>\n      <th>ARGANZUELA</th>\n      <td>3\u00ba42'12.73'' W</td>\n    </tr>\n    <tr>\n      <th>BARAJAS</th>\n      <td>3\u00ba35'46.54'' W</td>\n    </tr>\n    <tr>\n      <th>CARABANCHEL</th>\n      <td>3\u00ba43'10.93'' W</td>\n    </tr>\n    <tr>\n      <th>CENTRO</th>\n      <td>3\u00ba42'14.2'' W</td>\n    </tr>\n    <tr>\n      <th>CHAMARTIN</th>\n      <td>3\u00ba39'58.93'' W</td>\n    </tr>\n  </tbody>\n</table>\n</div>",
                        "text/plain": "                              Longitud\nDistrito                              \nARGANZUELA            3\u00ba42'12.73'' W  \nBARAJAS               3\u00ba35'46.54'' W  \nCARABANCHEL           3\u00ba43'10.93'' W  \nCENTRO                3\u00ba42'14.2'' W   \nCHAMARTIN             3\u00ba39'58.93'' W  "
                    },
                    "execution_count": 27,
                    "metadata": {},
                    "output_type": "execute_result"
                }
            ],
            "source": "longitudes.head()"
        },
        {
            "cell_type": "code",
            "execution_count": 28,
            "metadata": {},
            "outputs": [
                {
                    "data": {
                        "text/plain": "(21, 1)"
                    },
                    "execution_count": 28,
                    "metadata": {},
                    "output_type": "execute_result"
                }
            ],
            "source": "longitudes.shape"
        },
        {
            "cell_type": "code",
            "execution_count": 29,
            "metadata": {},
            "outputs": [],
            "source": "latitudes = pd.DataFrame(callejero.groupby(['Distrito'])['Latitud'].first())"
        },
        {
            "cell_type": "code",
            "execution_count": 30,
            "metadata": {},
            "outputs": [
                {
                    "data": {
                        "text/html": "<div>\n<style scoped>\n    .dataframe tbody tr th:only-of-type {\n        vertical-align: middle;\n    }\n\n    .dataframe tbody tr th {\n        vertical-align: top;\n    }\n\n    .dataframe thead th {\n        text-align: right;\n    }\n</style>\n<table border=\"1\" class=\"dataframe\">\n  <thead>\n    <tr style=\"text-align: right;\">\n      <th></th>\n      <th>Latitud</th>\n    </tr>\n    <tr>\n      <th>Distrito</th>\n      <th></th>\n    </tr>\n  </thead>\n  <tbody>\n    <tr>\n      <th>ARGANZUELA</th>\n      <td>40\u00ba24'16.53'' N</td>\n    </tr>\n    <tr>\n      <th>BARAJAS</th>\n      <td>40\u00ba27'0.9'' N</td>\n    </tr>\n    <tr>\n      <th>CARABANCHEL</th>\n      <td>40\u00ba22'35.7'' N</td>\n    </tr>\n    <tr>\n      <th>CENTRO</th>\n      <td>40\u00ba25'8.03'' N</td>\n    </tr>\n    <tr>\n      <th>CHAMARTIN</th>\n      <td>40\u00ba27'4.97'' N</td>\n    </tr>\n  </tbody>\n</table>\n</div>",
                        "text/plain": "                               Latitud\nDistrito                              \nARGANZUELA            40\u00ba24'16.53'' N \nBARAJAS               40\u00ba27'0.9'' N   \nCARABANCHEL           40\u00ba22'35.7'' N  \nCENTRO                40\u00ba25'8.03'' N  \nCHAMARTIN             40\u00ba27'4.97'' N  "
                    },
                    "execution_count": 30,
                    "metadata": {},
                    "output_type": "execute_result"
                }
            ],
            "source": "latitudes.head()"
        },
        {
            "cell_type": "code",
            "execution_count": 31,
            "metadata": {},
            "outputs": [
                {
                    "data": {
                        "text/plain": "(21, 1)"
                    },
                    "execution_count": 31,
                    "metadata": {},
                    "output_type": "execute_result"
                }
            ],
            "source": "latitudes.shape"
        },
        {
            "cell_type": "code",
            "execution_count": 32,
            "metadata": {},
            "outputs": [],
            "source": "coord = pd.merge(longitudes, latitudes, on='Distrito')"
        },
        {
            "cell_type": "code",
            "execution_count": 33,
            "metadata": {},
            "outputs": [
                {
                    "data": {
                        "text/html": "<div>\n<style scoped>\n    .dataframe tbody tr th:only-of-type {\n        vertical-align: middle;\n    }\n\n    .dataframe tbody tr th {\n        vertical-align: top;\n    }\n\n    .dataframe thead th {\n        text-align: right;\n    }\n</style>\n<table border=\"1\" class=\"dataframe\">\n  <thead>\n    <tr style=\"text-align: right;\">\n      <th></th>\n      <th>Longitud</th>\n      <th>Latitud</th>\n    </tr>\n    <tr>\n      <th>Distrito</th>\n      <th></th>\n      <th></th>\n    </tr>\n  </thead>\n  <tbody>\n    <tr>\n      <th>ARGANZUELA</th>\n      <td>3\u00ba42'12.73'' W</td>\n      <td>40\u00ba24'16.53'' N</td>\n    </tr>\n    <tr>\n      <th>BARAJAS</th>\n      <td>3\u00ba35'46.54'' W</td>\n      <td>40\u00ba27'0.9'' N</td>\n    </tr>\n    <tr>\n      <th>CARABANCHEL</th>\n      <td>3\u00ba43'10.93'' W</td>\n      <td>40\u00ba22'35.7'' N</td>\n    </tr>\n    <tr>\n      <th>CENTRO</th>\n      <td>3\u00ba42'14.2'' W</td>\n      <td>40\u00ba25'8.03'' N</td>\n    </tr>\n    <tr>\n      <th>CHAMARTIN</th>\n      <td>3\u00ba39'58.93'' W</td>\n      <td>40\u00ba27'4.97'' N</td>\n    </tr>\n  </tbody>\n</table>\n</div>",
                        "text/plain": "                              Longitud           Latitud\nDistrito                                                \nARGANZUELA            3\u00ba42'12.73'' W    40\u00ba24'16.53'' N \nBARAJAS               3\u00ba35'46.54'' W    40\u00ba27'0.9'' N   \nCARABANCHEL           3\u00ba43'10.93'' W    40\u00ba22'35.7'' N  \nCENTRO                3\u00ba42'14.2'' W     40\u00ba25'8.03'' N  \nCHAMARTIN             3\u00ba39'58.93'' W    40\u00ba27'4.97'' N  "
                    },
                    "execution_count": 33,
                    "metadata": {},
                    "output_type": "execute_result"
                }
            ],
            "source": "coord.head()"
        },
        {
            "cell_type": "code",
            "execution_count": 34,
            "metadata": {
                "scrolled": true
            },
            "outputs": [],
            "source": "coord = coord.reset_index()"
        },
        {
            "cell_type": "code",
            "execution_count": 35,
            "metadata": {},
            "outputs": [
                {
                    "data": {
                        "text/html": "<div>\n<style scoped>\n    .dataframe tbody tr th:only-of-type {\n        vertical-align: middle;\n    }\n\n    .dataframe tbody tr th {\n        vertical-align: top;\n    }\n\n    .dataframe thead th {\n        text-align: right;\n    }\n</style>\n<table border=\"1\" class=\"dataframe\">\n  <thead>\n    <tr style=\"text-align: right;\">\n      <th></th>\n      <th>Distrito</th>\n      <th>Longitud</th>\n      <th>Latitud</th>\n    </tr>\n  </thead>\n  <tbody>\n    <tr>\n      <th>0</th>\n      <td>ARGANZUELA</td>\n      <td>3\u00ba42'12.73'' W</td>\n      <td>40\u00ba24'16.53'' N</td>\n    </tr>\n    <tr>\n      <th>1</th>\n      <td>BARAJAS</td>\n      <td>3\u00ba35'46.54'' W</td>\n      <td>40\u00ba27'0.9'' N</td>\n    </tr>\n    <tr>\n      <th>2</th>\n      <td>CARABANCHEL</td>\n      <td>3\u00ba43'10.93'' W</td>\n      <td>40\u00ba22'35.7'' N</td>\n    </tr>\n    <tr>\n      <th>3</th>\n      <td>CENTRO</td>\n      <td>3\u00ba42'14.2'' W</td>\n      <td>40\u00ba25'8.03'' N</td>\n    </tr>\n    <tr>\n      <th>4</th>\n      <td>CHAMARTIN</td>\n      <td>3\u00ba39'58.93'' W</td>\n      <td>40\u00ba27'4.97'' N</td>\n    </tr>\n  </tbody>\n</table>\n</div>",
                        "text/plain": "               Distrito          Longitud           Latitud\n0  ARGANZUELA            3\u00ba42'12.73'' W    40\u00ba24'16.53'' N \n1  BARAJAS               3\u00ba35'46.54'' W    40\u00ba27'0.9'' N   \n2  CARABANCHEL           3\u00ba43'10.93'' W    40\u00ba22'35.7'' N  \n3  CENTRO                3\u00ba42'14.2'' W     40\u00ba25'8.03'' N  \n4  CHAMARTIN             3\u00ba39'58.93'' W    40\u00ba27'4.97'' N  "
                    },
                    "execution_count": 35,
                    "metadata": {},
                    "output_type": "execute_result"
                }
            ],
            "source": "coord.head()"
        },
        {
            "cell_type": "markdown",
            "metadata": {},
            "source": "## CALLEJERO DATA SET (includes coordinates of each district) = DISTRITOS"
        },
        {
            "cell_type": "code",
            "execution_count": 36,
            "metadata": {},
            "outputs": [
                {
                    "data": {
                        "text/html": "<div>\n<style scoped>\n    .dataframe tbody tr th:only-of-type {\n        vertical-align: middle;\n    }\n\n    .dataframe tbody tr th {\n        vertical-align: top;\n    }\n\n    .dataframe thead th {\n        text-align: right;\n    }\n</style>\n<table border=\"1\" class=\"dataframe\">\n  <thead>\n    <tr style=\"text-align: right;\">\n      <th></th>\n      <th>Distritos</th>\n      <th>Longitud</th>\n      <th>Latitud</th>\n    </tr>\n  </thead>\n  <tbody>\n    <tr>\n      <th>0</th>\n      <td>ARGANZUELA</td>\n      <td>-3.703536</td>\n      <td>40.404592</td>\n    </tr>\n    <tr>\n      <th>1</th>\n      <td>BARAJAS</td>\n      <td>-3.596261</td>\n      <td>40.450250</td>\n    </tr>\n    <tr>\n      <th>2</th>\n      <td>CARABANCHEL</td>\n      <td>-3.719703</td>\n      <td>40.376583</td>\n    </tr>\n    <tr>\n      <th>3</th>\n      <td>CENTRO</td>\n      <td>-3.703944</td>\n      <td>40.418897</td>\n    </tr>\n    <tr>\n      <th>4</th>\n      <td>CHAMARTIN</td>\n      <td>-3.666369</td>\n      <td>40.451381</td>\n    </tr>\n  </tbody>\n</table>\n</div>",
                        "text/plain": "              Distritos  Longitud    Latitud\n0  ARGANZUELA           -3.703536  40.404592\n1  BARAJAS              -3.596261  40.450250\n2  CARABANCHEL          -3.719703  40.376583\n3  CENTRO               -3.703944  40.418897\n4  CHAMARTIN            -3.666369  40.451381"
                    },
                    "execution_count": 36,
                    "metadata": {},
                    "output_type": "execute_result"
                }
            ],
            "source": "distritos = pd.DataFrame()\ni=0\nfor row in coord.iterrows():\n    rowIndex = coord.index[i]\n    distritos.loc[rowIndex, 'Distritos'] = coord['Distrito'].values[i]\n    #distritostest['Distritos']=test['Distrito'].values[i]\n    \n    long = coord['Longitud'].values[rowIndex]\n    deg, part2 =  re.split('\u00ba', long)\n    mins,secs,none,di= part2.replace(\"'\", \"-\").split(\"-\")\n    di2 = \" \".join(re.findall(\"[a-zA-Z]+\", di))\n    lon=(float(deg) + float(mins)/60 + float(secs)/(60*60)) * (-1 if di2 in ['W', 'S'] else 1)\n    distritos.loc[rowIndex,'Longitud']=lon\n    \n    lat = coord['Latitud'].values[rowIndex]\n    deg, part2 =  re.split('\u00ba', lat)\n    mins,secs,none,di= part2.replace(\"'\", \"-\").split(\"-\")\n    di2 = \" \".join(re.findall(\"[a-zA-Z]+\", di))\n    lati=(float(deg) + float(mins)/60 + float(secs)/(60*60)) * (-1 if di2 in ['W', 'S'] else 1)\n    distritos.loc[rowIndex,'Latitud']=lati\n    \n    i = i+1\n\ndistritos.head()   "
        },
        {
            "cell_type": "code",
            "execution_count": 37,
            "metadata": {},
            "outputs": [],
            "source": "distritos['Distritos'] = distritos['Distritos'].str.strip()"
        },
        {
            "cell_type": "markdown",
            "metadata": {},
            "source": "# Wrangling Population Density Data Set = mad Data Set"
        },
        {
            "cell_type": "code",
            "execution_count": 40,
            "metadata": {},
            "outputs": [],
            "source": "import ssl\n\nssl._create_default_https_context = ssl._create_unverified_context"
        },
        {
            "cell_type": "code",
            "execution_count": 41,
            "metadata": {},
            "outputs": [],
            "source": "m = 'https://datos.comunidad.madrid/catalogo/dataset/23cb5aac-71c8-4f0d-a3ee-eab9aec7252f/resource/90c6eda7-2991-467a-979e-722398178f35/download/distritos_municipio_madrid.csv'"
        },
        {
            "cell_type": "code",
            "execution_count": 42,
            "metadata": {},
            "outputs": [],
            "source": "mad = pd.read_csv(m, encoding='latin-1', error_bad_lines=False, sep=';')"
        },
        {
            "cell_type": "code",
            "execution_count": 43,
            "metadata": {},
            "outputs": [
                {
                    "data": {
                        "text/html": "<div>\n<style scoped>\n    .dataframe tbody tr th:only-of-type {\n        vertical-align: middle;\n    }\n\n    .dataframe tbody tr th {\n        vertical-align: top;\n    }\n\n    .dataframe thead th {\n        text-align: right;\n    }\n</style>\n<table border=\"1\" class=\"dataframe\">\n  <thead>\n    <tr style=\"text-align: right;\">\n      <th></th>\n      <th>distrito_codigo</th>\n      <th>distrito_nombre</th>\n      <th>municipio_codigo</th>\n      <th>municipio_nombre</th>\n      <th>superficie_km2</th>\n      <th>densidad_por_km2</th>\n    </tr>\n  </thead>\n  <tbody>\n    <tr>\n      <th>0</th>\n      <td>79601</td>\n      <td>Centro</td>\n      <td>796</td>\n      <td>Madrid</td>\n      <td>5.21</td>\n      <td>25340.69</td>\n    </tr>\n    <tr>\n      <th>1</th>\n      <td>79602</td>\n      <td>Arganzuela</td>\n      <td>796</td>\n      <td>Madrid</td>\n      <td>6.52</td>\n      <td>23306.44</td>\n    </tr>\n    <tr>\n      <th>2</th>\n      <td>79603</td>\n      <td>Retiro</td>\n      <td>796</td>\n      <td>Madrid</td>\n      <td>5.42</td>\n      <td>21867.53</td>\n    </tr>\n    <tr>\n      <th>3</th>\n      <td>79604</td>\n      <td>Salamanca</td>\n      <td>796</td>\n      <td>Madrid</td>\n      <td>5.36</td>\n      <td>26830.78</td>\n    </tr>\n    <tr>\n      <th>4</th>\n      <td>79605</td>\n      <td>Chamart\u00edn</td>\n      <td>796</td>\n      <td>Madrid</td>\n      <td>9.12</td>\n      <td>15723.25</td>\n    </tr>\n  </tbody>\n</table>\n</div>",
                        "text/plain": "   distrito_codigo  distrito_nombre  municipio_codigo municipio_nombre  \\\n0            79601          Centro                796           Madrid   \n1            79602      Arganzuela                796           Madrid   \n2            79603          Retiro                796           Madrid   \n3            79604       Salamanca                796           Madrid   \n4            79605       Chamart\u00edn                796           Madrid   \n\n   superficie_km2  densidad_por_km2  \n0            5.21          25340.69  \n1            6.52          23306.44  \n2            5.42          21867.53  \n3            5.36          26830.78  \n4            9.12          15723.25  "
                    },
                    "execution_count": 43,
                    "metadata": {},
                    "output_type": "execute_result"
                }
            ],
            "source": "mad.head()"
        },
        {
            "cell_type": "code",
            "execution_count": 44,
            "metadata": {},
            "outputs": [],
            "source": "mad.drop(['distrito_codigo','municipio_codigo','municipio_nombre','superficie_km2'], axis=1, inplace = True)"
        },
        {
            "cell_type": "code",
            "execution_count": 45,
            "metadata": {},
            "outputs": [
                {
                    "data": {
                        "text/html": "<div>\n<style scoped>\n    .dataframe tbody tr th:only-of-type {\n        vertical-align: middle;\n    }\n\n    .dataframe tbody tr th {\n        vertical-align: top;\n    }\n\n    .dataframe thead th {\n        text-align: right;\n    }\n</style>\n<table border=\"1\" class=\"dataframe\">\n  <thead>\n    <tr style=\"text-align: right;\">\n      <th></th>\n      <th>distrito_nombre</th>\n      <th>densidad_por_km2</th>\n    </tr>\n  </thead>\n  <tbody>\n    <tr>\n      <th>0</th>\n      <td>Centro</td>\n      <td>25340.69</td>\n    </tr>\n    <tr>\n      <th>1</th>\n      <td>Arganzuela</td>\n      <td>23306.44</td>\n    </tr>\n    <tr>\n      <th>2</th>\n      <td>Retiro</td>\n      <td>21867.53</td>\n    </tr>\n    <tr>\n      <th>3</th>\n      <td>Salamanca</td>\n      <td>26830.78</td>\n    </tr>\n    <tr>\n      <th>4</th>\n      <td>Chamart\u00edn</td>\n      <td>15723.25</td>\n    </tr>\n  </tbody>\n</table>\n</div>",
                        "text/plain": "   distrito_nombre  densidad_por_km2\n0          Centro           25340.69\n1      Arganzuela           23306.44\n2          Retiro           21867.53\n3       Salamanca           26830.78\n4       Chamart\u00edn           15723.25"
                    },
                    "execution_count": 45,
                    "metadata": {},
                    "output_type": "execute_result"
                }
            ],
            "source": "mad.head()"
        },
        {
            "cell_type": "code",
            "execution_count": 46,
            "metadata": {
                "scrolled": true
            },
            "outputs": [
                {
                    "data": {
                        "text/plain": "(21, 2)"
                    },
                    "execution_count": 46,
                    "metadata": {},
                    "output_type": "execute_result"
                }
            ],
            "source": "mad.shape"
        },
        {
            "cell_type": "code",
            "execution_count": 47,
            "metadata": {},
            "outputs": [],
            "source": "mad.columns = ['Distritos','Densidadkm2']"
        },
        {
            "cell_type": "code",
            "execution_count": 48,
            "metadata": {},
            "outputs": [
                {
                    "data": {
                        "text/html": "<div>\n<style scoped>\n    .dataframe tbody tr th:only-of-type {\n        vertical-align: middle;\n    }\n\n    .dataframe tbody tr th {\n        vertical-align: top;\n    }\n\n    .dataframe thead th {\n        text-align: right;\n    }\n</style>\n<table border=\"1\" class=\"dataframe\">\n  <thead>\n    <tr style=\"text-align: right;\">\n      <th></th>\n      <th>Distritos</th>\n      <th>Densidadkm2</th>\n    </tr>\n  </thead>\n  <tbody>\n    <tr>\n      <th>0</th>\n      <td>Centro</td>\n      <td>25340.69</td>\n    </tr>\n    <tr>\n      <th>1</th>\n      <td>Arganzuela</td>\n      <td>23306.44</td>\n    </tr>\n    <tr>\n      <th>2</th>\n      <td>Retiro</td>\n      <td>21867.53</td>\n    </tr>\n    <tr>\n      <th>3</th>\n      <td>Salamanca</td>\n      <td>26830.78</td>\n    </tr>\n    <tr>\n      <th>4</th>\n      <td>Chamart\u00edn</td>\n      <td>15723.25</td>\n    </tr>\n  </tbody>\n</table>\n</div>",
                        "text/plain": "         Distritos  Densidadkm2\n0          Centro      25340.69\n1      Arganzuela      23306.44\n2          Retiro      21867.53\n3       Salamanca      26830.78\n4       Chamart\u00edn      15723.25"
                    },
                    "execution_count": 48,
                    "metadata": {},
                    "output_type": "execute_result"
                }
            ],
            "source": "mad.head()"
        },
        {
            "cell_type": "code",
            "execution_count": 49,
            "metadata": {
                "scrolled": true
            },
            "outputs": [],
            "source": "mad.replace(to_replace =[mad.iloc[4][0]],  \n                            value =\"Chamartin\", inplace = True)\nmad.replace(to_replace =[mad.iloc[6][0]],  \n                            value =\"Chamberi\", inplace = True)\nmad.replace(to_replace =[mad.iloc[18][0]],  \n                            value =\"Vicalvaro\", inplace = True)"
        },
        {
            "cell_type": "code",
            "execution_count": 50,
            "metadata": {},
            "outputs": [],
            "source": "mad['Distritos'] = mad['Distritos'].str.strip()"
        },
        {
            "cell_type": "code",
            "execution_count": 51,
            "metadata": {},
            "outputs": [],
            "source": "mad['Distritos'] = mad['Distritos'].str.upper()"
        },
        {
            "cell_type": "code",
            "execution_count": 52,
            "metadata": {},
            "outputs": [
                {
                    "data": {
                        "text/html": "<div>\n<style scoped>\n    .dataframe tbody tr th:only-of-type {\n        vertical-align: middle;\n    }\n\n    .dataframe tbody tr th {\n        vertical-align: top;\n    }\n\n    .dataframe thead th {\n        text-align: right;\n    }\n</style>\n<table border=\"1\" class=\"dataframe\">\n  <thead>\n    <tr style=\"text-align: right;\">\n      <th></th>\n      <th>Distritos</th>\n      <th>Densidadkm2</th>\n    </tr>\n  </thead>\n  <tbody>\n    <tr>\n      <th>0</th>\n      <td>CENTRO</td>\n      <td>25340.69</td>\n    </tr>\n    <tr>\n      <th>1</th>\n      <td>ARGANZUELA</td>\n      <td>23306.44</td>\n    </tr>\n    <tr>\n      <th>2</th>\n      <td>RETIRO</td>\n      <td>21867.53</td>\n    </tr>\n    <tr>\n      <th>3</th>\n      <td>SALAMANCA</td>\n      <td>26830.78</td>\n    </tr>\n    <tr>\n      <th>4</th>\n      <td>CHAMARTIN</td>\n      <td>15723.25</td>\n    </tr>\n  </tbody>\n</table>\n</div>",
                        "text/plain": "    Distritos  Densidadkm2\n0      CENTRO     25340.69\n1  ARGANZUELA     23306.44\n2      RETIRO     21867.53\n3   SALAMANCA     26830.78\n4   CHAMARTIN     15723.25"
                    },
                    "execution_count": 52,
                    "metadata": {},
                    "output_type": "execute_result"
                }
            ],
            "source": "mad.head()"
        },
        {
            "cell_type": "code",
            "execution_count": null,
            "metadata": {},
            "outputs": [],
            "source": "#t=mad.iloc[0][0]\n#t"
        },
        {
            "cell_type": "code",
            "execution_count": null,
            "metadata": {},
            "outputs": [],
            "source": "#r=distritos.iloc[3][0]\n#r"
        },
        {
            "cell_type": "code",
            "execution_count": null,
            "metadata": {},
            "outputs": [],
            "source": "#t==r"
        },
        {
            "cell_type": "markdown",
            "metadata": {},
            "source": "## Merged Data Set: Callejero + Population Density"
        },
        {
            "cell_type": "code",
            "execution_count": 53,
            "metadata": {},
            "outputs": [],
            "source": "merged = pd.merge(distritos, mad, on='Distritos')"
        },
        {
            "cell_type": "code",
            "execution_count": 54,
            "metadata": {},
            "outputs": [
                {
                    "data": {
                        "text/html": "<div>\n<style scoped>\n    .dataframe tbody tr th:only-of-type {\n        vertical-align: middle;\n    }\n\n    .dataframe tbody tr th {\n        vertical-align: top;\n    }\n\n    .dataframe thead th {\n        text-align: right;\n    }\n</style>\n<table border=\"1\" class=\"dataframe\">\n  <thead>\n    <tr style=\"text-align: right;\">\n      <th></th>\n      <th>Distritos</th>\n      <th>Longitud</th>\n      <th>Latitud</th>\n      <th>Densidadkm2</th>\n    </tr>\n  </thead>\n  <tbody>\n    <tr>\n      <th>0</th>\n      <td>ARGANZUELA</td>\n      <td>-3.703536</td>\n      <td>40.404592</td>\n      <td>23306.44</td>\n    </tr>\n    <tr>\n      <th>1</th>\n      <td>BARAJAS</td>\n      <td>-3.596261</td>\n      <td>40.450250</td>\n      <td>1076.06</td>\n    </tr>\n    <tr>\n      <th>2</th>\n      <td>CARABANCHEL</td>\n      <td>-3.719703</td>\n      <td>40.376583</td>\n      <td>17316.88</td>\n    </tr>\n    <tr>\n      <th>3</th>\n      <td>CENTRO</td>\n      <td>-3.703944</td>\n      <td>40.418897</td>\n      <td>25340.69</td>\n    </tr>\n    <tr>\n      <th>4</th>\n      <td>CHAMARTIN</td>\n      <td>-3.666369</td>\n      <td>40.451381</td>\n      <td>15723.25</td>\n    </tr>\n  </tbody>\n</table>\n</div>",
                        "text/plain": "     Distritos  Longitud    Latitud  Densidadkm2\n0   ARGANZUELA -3.703536  40.404592     23306.44\n1      BARAJAS -3.596261  40.450250      1076.06\n2  CARABANCHEL -3.719703  40.376583     17316.88\n3       CENTRO -3.703944  40.418897     25340.69\n4    CHAMARTIN -3.666369  40.451381     15723.25"
                    },
                    "execution_count": 54,
                    "metadata": {},
                    "output_type": "execute_result"
                }
            ],
            "source": "merged.head()"
        },
        {
            "cell_type": "code",
            "execution_count": 55,
            "metadata": {},
            "outputs": [
                {
                    "data": {
                        "text/plain": "(21, 4)"
                    },
                    "execution_count": 55,
                    "metadata": {},
                    "output_type": "execute_result"
                }
            ],
            "source": "merged.shape"
        },
        {
            "cell_type": "markdown",
            "metadata": {},
            "source": "# Analyzing population density"
        },
        {
            "cell_type": "code",
            "execution_count": 140,
            "metadata": {},
            "outputs": [],
            "source": "import numpy as np  # useful for many scientific computing in Python\nimport pandas as pd # primary data structure library\n%matplotlib inline \n\nimport matplotlib as mpl\nimport matplotlib.pyplot as plt\n\nmpl.style.use('ggplot')"
        },
        {
            "cell_type": "code",
            "execution_count": 171,
            "metadata": {},
            "outputs": [],
            "source": "mad2 = mad.sort_values('Densidadkm2',ascending=True)"
        },
        {
            "cell_type": "code",
            "execution_count": 172,
            "metadata": {},
            "outputs": [],
            "source": "mad2.set_index('Distritos', inplace = True)"
        },
        {
            "cell_type": "code",
            "execution_count": 173,
            "metadata": {},
            "outputs": [
                {
                    "data": {
                        "text/plain": "Distritos\nUSERA            17535.32\nCIUDAD LINEAL    18455.56\nRETIRO           21867.53\nARGANZUELA       23306.44\nCENTRO           25340.69\nSALAMANCA        26830.78\nTETUAN           28664.25\nCHAMBERI         29049.26\nName: Densidadkm2, dtype: float64"
                    },
                    "execution_count": 173,
                    "metadata": {},
                    "output_type": "execute_result"
                }
            ],
            "source": "mad2 = mad2['Densidadkm2'].tail(8)\nmad2"
        },
        {
            "cell_type": "code",
            "execution_count": 178,
            "metadata": {},
            "outputs": [
                {
                    "data": {
                        "image/png": "[encoded data removed]",
                        "text/plain": "<Figure size 864x432 with 1 Axes>"
                    },
                    "metadata": {
                        "needs_background": "light"
                    },
                    "output_type": "display_data"
                }
            ],
            "source": "mad2.plot(kind='barh', figsize=(12, 6), color='steelblue')\n\nplt.title('Bar Plot of Top 10 Population Density by District') \nplt.xlabel('Population Density per Km2') # add y-label\nplt.ylabel('Districts')\n\nplt.show()"
        },
        {
            "cell_type": "markdown",
            "metadata": {},
            "source": "#### We are only interested in places that are very populated. Therefore, we will only keep as candidates the top 5 districts in population density\n* Chamberi\n* Tetuan\n* Salamanca\n* Centro\n* Arganzuela"
        },
        {
            "cell_type": "code",
            "execution_count": 201,
            "metadata": {},
            "outputs": [
                {
                    "data": {
                        "text/html": "<div>\n<style scoped>\n    .dataframe tbody tr th:only-of-type {\n        vertical-align: middle;\n    }\n\n    .dataframe tbody tr th {\n        vertical-align: top;\n    }\n\n    .dataframe thead th {\n        text-align: right;\n    }\n</style>\n<table border=\"1\" class=\"dataframe\">\n  <thead>\n    <tr style=\"text-align: right;\">\n      <th></th>\n      <th>Distritos</th>\n      <th>Longitud</th>\n      <th>Latitud</th>\n      <th>Densidadkm2</th>\n    </tr>\n  </thead>\n  <tbody>\n    <tr>\n      <th>0</th>\n      <td>ARGANZUELA</td>\n      <td>-3.703536</td>\n      <td>40.404592</td>\n      <td>23306.44</td>\n    </tr>\n    <tr>\n      <th>3</th>\n      <td>CENTRO</td>\n      <td>-3.703944</td>\n      <td>40.418897</td>\n      <td>25340.69</td>\n    </tr>\n    <tr>\n      <th>5</th>\n      <td>CHAMBERI</td>\n      <td>-3.711703</td>\n      <td>40.434694</td>\n      <td>29049.26</td>\n    </tr>\n    <tr>\n      <th>14</th>\n      <td>SALAMANCA</td>\n      <td>-3.681403</td>\n      <td>40.421958</td>\n      <td>26830.78</td>\n    </tr>\n    <tr>\n      <th>16</th>\n      <td>TETUAN</td>\n      <td>-3.704361</td>\n      <td>40.464525</td>\n      <td>28664.25</td>\n    </tr>\n  </tbody>\n</table>\n</div>",
                        "text/plain": "     Distritos  Longitud    Latitud  Densidadkm2\n0   ARGANZUELA -3.703536  40.404592     23306.44\n3       CENTRO -3.703944  40.418897     25340.69\n5     CHAMBERI -3.711703  40.434694     29049.26\n14   SALAMANCA -3.681403  40.421958     26830.78\n16      TETUAN -3.704361  40.464525     28664.25"
                    },
                    "execution_count": 201,
                    "metadata": {},
                    "output_type": "execute_result"
                }
            ],
            "source": "top5 = merged[(merged['Distritos'].isin(['CHAMBERI','TETUAN','SALAMANCA','CENTRO','ARGANZUELA']))]\ntop5"
        },
        {
            "cell_type": "markdown",
            "metadata": {},
            "source": "## Map for reference of districts"
        },
        {
            "cell_type": "code",
            "execution_count": 98,
            "metadata": {},
            "outputs": [
                {
                    "name": "stdout",
                    "output_type": "stream",
                    "text": "Collecting folium\n\u001b[?25l  Downloading https://files.pythonhosted.org/packages/a4/f0/44e69d50519880287cc41e7c8a6acc58daa9a9acf5f6afc52bcc70f69a6d/folium-0.11.0-py2.py3-none-any.whl (93kB)\n\u001b[K     |\u2588\u2588\u2588\u2588\u2588\u2588\u2588\u2588\u2588\u2588\u2588\u2588\u2588\u2588\u2588\u2588\u2588\u2588\u2588\u2588\u2588\u2588\u2588\u2588\u2588\u2588\u2588\u2588\u2588\u2588\u2588\u2588| 102kB 10.9MB/s ta 0:00:01\n\u001b[?25hCollecting branca>=0.3.0 (from folium)\n  Downloading https://files.pythonhosted.org/packages/13/fb/9eacc24ba3216510c6b59a4ea1cd53d87f25ba76237d7f4393abeaf4c94e/branca-0.4.1-py3-none-any.whl\nRequirement already satisfied: numpy in /opt/conda/envs/Python36/lib/python3.6/site-packages (from folium) (1.15.4)\nRequirement already satisfied: requests in /opt/conda/envs/Python36/lib/python3.6/site-packages (from folium) (2.21.0)\nRequirement already satisfied: jinja2>=2.9 in /opt/conda/envs/Python36/lib/python3.6/site-packages (from folium) (2.10)\nRequirement already satisfied: chardet<3.1.0,>=3.0.2 in /opt/conda/envs/Python36/lib/python3.6/site-packages (from requests->folium) (3.0.4)\nRequirement already satisfied: certifi>=2017.4.17 in /opt/conda/envs/Python36/lib/python3.6/site-packages (from requests->folium) (2020.6.20)\nRequirement already satisfied: idna<2.9,>=2.5 in /opt/conda/envs/Python36/lib/python3.6/site-packages (from requests->folium) (2.8)\nRequirement already satisfied: urllib3<1.25,>=1.21.1 in /opt/conda/envs/Python36/lib/python3.6/site-packages (from requests->folium) (1.24.1)\nRequirement already satisfied: MarkupSafe>=0.23 in /opt/conda/envs/Python36/lib/python3.6/site-packages (from jinja2>=2.9->folium) (1.1.0)\nInstalling collected packages: branca, folium\nSuccessfully installed branca-0.4.1 folium-0.11.0\n"
                }
            ],
            "source": "!pip install folium\nimport folium"
        },
        {
            "cell_type": "code",
            "execution_count": 212,
            "metadata": {
                "scrolled": true
            },
            "outputs": [
                {
                    "data": {
                        "text/html": "<div style=\"width:100%;\"><div style=\"position:relative;width:100%;height:0;padding-bottom:60%;\"><span style=\"color:#565656\">Make this Notebook Trusted to load map: File -> Trust Notebook</span><iframe src=\"about:blank\" style=\"position:absolute;width:100%;height:100%;left:0;top:0;border:none !important;\" data-html=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 onload=\"this.contentDocument.open();this.contentDocument.write(atob(this.getAttribute('data-html')));this.contentDocument.close();\" allowfullscreen webkitallowfullscreen mozallowfullscreen></iframe></div></div>",
                        "text/plain": "<folium.folium.Map at 0x7fe3942ba4e0>"
                    },
                    "execution_count": 212,
                    "metadata": {},
                    "output_type": "execute_result"
                }
            ],
            "source": "map_madrid = folium.Map(location=[40.4115, -3.7076], zoom_start=12)\n\nfor lat, lng, label in zip(top5['Latitud'], top5['Longitud'], top5['Distritos']):\n    label = folium.Popup(label, parse_html=True)\n    folium.CircleMarker(\n        [lat, lng],\n        radius=5,\n        popup=label,\n        color='blue',\n        fill=True,\n        fill_color='#3186cc',\n        fill_opacity=0.7,\n        parse_html=False).add_to(map_madrid) \n\n\nmap_madrid"
        },
        {
            "cell_type": "markdown",
            "metadata": {},
            "source": "## Foursquare API"
        },
        {
            "cell_type": "markdown",
            "metadata": {},
            "source": "#### Connecting to the FourSquare API"
        },
        {
            "cell_type": "code",
            "execution_count": 56,
            "metadata": {},
            "outputs": [
                {
                    "name": "stdout",
                    "output_type": "stream",
                    "text": "Your credentails:\nCLIENT_ID: VKLXYHQXFGSTNJM1SLZCPTGZ4BNKT4M5LHM1NPRENJSKR4FO\nCLIENT_SECRET:MJJMIC1C3RINXEXRDPLR1VBMHUIHQKINYNFAARFEKGWG3TTO\n"
                }
            ],
            "source": "# @ Hide credentials\nCLIENT_ID = 'VKLXYHQXFGSTNJM1SLZCPTGZ4BNKT4M5LHM1NPRENJSKR4FO' # your Foursquare ID\nCLIENT_SECRET = 'MJJMIC1C3RINXEXRDPLR1VBMHUIHQKINYNFAARFEKGWG3TTO' # your Foursquare Secret\nVERSION = '20180605' # Foursquare API version\n\nprint('Your credentails:')\nprint('CLIENT_ID: ' + CLIENT_ID)\nprint('CLIENT_SECRET:' + CLIENT_SECRET)"
        },
        {
            "cell_type": "markdown",
            "metadata": {},
            "source": "### Get nearby venues for each district and their coordinates along with venue category and top categories"
        },
        {
            "cell_type": "code",
            "execution_count": 119,
            "metadata": {},
            "outputs": [],
            "source": "import json\nimport requests"
        },
        {
            "cell_type": "markdown",
            "metadata": {},
            "source": "Function to get nearby venues for all districts"
        },
        {
            "cell_type": "code",
            "execution_count": 215,
            "metadata": {},
            "outputs": [],
            "source": "def getNearbyVenues(names, latitudes, longitudes, radius=500):\n    LIMIT = 100\n    venues_list=[]\n    for name, lat, lng in zip(names, latitudes, longitudes):\n        print(name)\n            \n        # create the API request URL\n        url = 'https://api.foursquare.com/v2/venues/explore?&client_id={}&client_secret={}&v={}&ll={},{}&radius={}&limit={}'.format(\n            CLIENT_ID, \n            CLIENT_SECRET, \n            VERSION, \n            lat, \n            lng, \n            radius, \n            LIMIT)\n            \n        # make the GET request\n        results = requests.get(url).json()[\"response\"]['groups'][0]['items']\n        \n        # return only relevant information for each nearby venue\n        venues_list.append([(\n            name, \n            lat, \n            lng, \n            v['venue']['name'], \n            v['venue']['location']['lat'], \n            v['venue']['location']['lng'],  \n            v['venue']['categories'][0]['name']) for v in results])\n\n    nearby_venues = pd.DataFrame([item for venue_list in venues_list for item in venue_list])\n    nearby_venues.columns = ['Distritos', \n                  'District Latitude', \n                  'District Longitude', \n                  'Venue', \n                  'Venue Latitude', \n                  'Venue Longitude', \n                  'Venue Category']\n    \n    return(nearby_venues)"
        },
        {
            "cell_type": "code",
            "execution_count": 216,
            "metadata": {
                "scrolled": true
            },
            "outputs": [
                {
                    "name": "stdout",
                    "output_type": "stream",
                    "text": "ARGANZUELA\nCENTRO\nCHAMBERI\nSALAMANCA\nTETUAN\n"
                }
            ],
            "source": "madrid_venues = getNearbyVenues(names=top5['Distritos'],\n                                   latitudes=top5['Latitud'],\n                                   longitudes=top5['Longitud']\n                                  )"
        },
        {
            "cell_type": "code",
            "execution_count": 217,
            "metadata": {
                "scrolled": true
            },
            "outputs": [
                {
                    "data": {
                        "text/html": "<div>\n<style scoped>\n    .dataframe tbody tr th:only-of-type {\n        vertical-align: middle;\n    }\n\n    .dataframe tbody tr th {\n        vertical-align: top;\n    }\n\n    .dataframe thead th {\n        text-align: right;\n    }\n</style>\n<table border=\"1\" class=\"dataframe\">\n  <thead>\n    <tr style=\"text-align: right;\">\n      <th></th>\n      <th>Distritos</th>\n      <th>District Latitude</th>\n      <th>District Longitude</th>\n      <th>Venue</th>\n      <th>Venue Latitude</th>\n      <th>Venue Longitude</th>\n      <th>Venue Category</th>\n    </tr>\n  </thead>\n  <tbody>\n    <tr>\n      <th>0</th>\n      <td>ARGANZUELA</td>\n      <td>40.404592</td>\n      <td>-3.703536</td>\n      <td>Tabacalera  Promoci\u00f3n del Arte</td>\n      <td>40.406386</td>\n      <td>-3.703242</td>\n      <td>Art Gallery</td>\n    </tr>\n    <tr>\n      <th>1</th>\n      <td>ARGANZUELA</td>\n      <td>40.404592</td>\n      <td>-3.703536</td>\n      <td>CSA La Tabacalera de Lavapi\u00e9s</td>\n      <td>40.406135</td>\n      <td>-3.702630</td>\n      <td>Event Space</td>\n    </tr>\n    <tr>\n      <th>2</th>\n      <td>ARGANZUELA</td>\n      <td>40.404592</td>\n      <td>-3.703536</td>\n      <td>Swinton &amp; Grant</td>\n      <td>40.405953</td>\n      <td>-3.701871</td>\n      <td>Art Gallery</td>\n    </tr>\n    <tr>\n      <th>3</th>\n      <td>ARGANZUELA</td>\n      <td>40.404592</td>\n      <td>-3.703536</td>\n      <td>Viva Gym Embajadores</td>\n      <td>40.405276</td>\n      <td>-3.702456</td>\n      <td>Gymnastics Gym</td>\n    </tr>\n    <tr>\n      <th>4</th>\n      <td>ARGANZUELA</td>\n      <td>40.404592</td>\n      <td>-3.703536</td>\n      <td>Ciudadano Grant</td>\n      <td>40.405851</td>\n      <td>-3.701793</td>\n      <td>Bookstore</td>\n    </tr>\n  </tbody>\n</table>\n</div>",
                        "text/plain": "    Distritos  District Latitude  District Longitude  \\\n0  ARGANZUELA          40.404592           -3.703536   \n1  ARGANZUELA          40.404592           -3.703536   \n2  ARGANZUELA          40.404592           -3.703536   \n3  ARGANZUELA          40.404592           -3.703536   \n4  ARGANZUELA          40.404592           -3.703536   \n\n                            Venue  Venue Latitude  Venue Longitude  \\\n0  Tabacalera  Promoci\u00f3n del Arte       40.406386        -3.703242   \n1   CSA La Tabacalera de Lavapi\u00e9s       40.406135        -3.702630   \n2                 Swinton & Grant       40.405953        -3.701871   \n3            Viva Gym Embajadores       40.405276        -3.702456   \n4                 Ciudadano Grant       40.405851        -3.701793   \n\n   Venue Category  \n0     Art Gallery  \n1     Event Space  \n2     Art Gallery  \n3  Gymnastics Gym  \n4       Bookstore  "
                    },
                    "execution_count": 217,
                    "metadata": {},
                    "output_type": "execute_result"
                }
            ],
            "source": "madrid_venues.head()"
        },
        {
            "cell_type": "code",
            "execution_count": 218,
            "metadata": {},
            "outputs": [
                {
                    "data": {
                        "text/plain": "(414, 7)"
                    },
                    "execution_count": 218,
                    "metadata": {},
                    "output_type": "execute_result"
                }
            ],
            "source": "madrid_venues.shape"
        },
        {
            "cell_type": "code",
            "execution_count": 219,
            "metadata": {
                "scrolled": true
            },
            "outputs": [
                {
                    "data": {
                        "text/html": "<div>\n<style scoped>\n    .dataframe tbody tr th:only-of-type {\n        vertical-align: middle;\n    }\n\n    .dataframe tbody tr th {\n        vertical-align: top;\n    }\n\n    .dataframe thead th {\n        text-align: right;\n    }\n</style>\n<table border=\"1\" class=\"dataframe\">\n  <thead>\n    <tr style=\"text-align: right;\">\n      <th></th>\n      <th>District Latitude</th>\n      <th>District Longitude</th>\n      <th>Venue</th>\n      <th>Venue Latitude</th>\n      <th>Venue Longitude</th>\n      <th>Venue Category</th>\n    </tr>\n    <tr>\n      <th>Distritos</th>\n      <th></th>\n      <th></th>\n      <th></th>\n      <th></th>\n      <th></th>\n      <th></th>\n    </tr>\n  </thead>\n  <tbody>\n    <tr>\n      <th>ARGANZUELA</th>\n      <td>100</td>\n      <td>100</td>\n      <td>100</td>\n      <td>100</td>\n      <td>100</td>\n      <td>100</td>\n    </tr>\n    <tr>\n      <th>CENTRO</th>\n      <td>100</td>\n      <td>100</td>\n      <td>100</td>\n      <td>100</td>\n      <td>100</td>\n      <td>100</td>\n    </tr>\n    <tr>\n      <th>CHAMBERI</th>\n      <td>95</td>\n      <td>95</td>\n      <td>95</td>\n      <td>95</td>\n      <td>95</td>\n      <td>95</td>\n    </tr>\n    <tr>\n      <th>SALAMANCA</th>\n      <td>100</td>\n      <td>100</td>\n      <td>100</td>\n      <td>100</td>\n      <td>100</td>\n      <td>100</td>\n    </tr>\n    <tr>\n      <th>TETUAN</th>\n      <td>19</td>\n      <td>19</td>\n      <td>19</td>\n      <td>19</td>\n      <td>19</td>\n      <td>19</td>\n    </tr>\n  </tbody>\n</table>\n</div>",
                        "text/plain": "            District Latitude  District Longitude  Venue  Venue Latitude  \\\nDistritos                                                                  \nARGANZUELA                100                 100    100             100   \nCENTRO                    100                 100    100             100   \nCHAMBERI                   95                  95     95              95   \nSALAMANCA                 100                 100    100             100   \nTETUAN                     19                  19     19              19   \n\n            Venue Longitude  Venue Category  \nDistritos                                    \nARGANZUELA              100             100  \nCENTRO                  100             100  \nCHAMBERI                 95              95  \nSALAMANCA               100             100  \nTETUAN                   19              19  "
                    },
                    "execution_count": 219,
                    "metadata": {},
                    "output_type": "execute_result"
                }
            ],
            "source": "madrid_venues.groupby('Distritos').count()"
        },
        {
            "cell_type": "code",
            "execution_count": 220,
            "metadata": {},
            "outputs": [
                {
                    "name": "stdout",
                    "output_type": "stream",
                    "text": "There are 108 unique venue categories.\n"
                }
            ],
            "source": "print('There are {} unique venue categories.'.format(len(madrid_venues['Venue Category'].unique())))"
        },
        {
            "cell_type": "markdown",
            "metadata": {},
            "source": "## Analyzing each district's most common venue categories"
        },
        {
            "cell_type": "code",
            "execution_count": 221,
            "metadata": {},
            "outputs": [
                {
                    "data": {
                        "text/html": "<div>\n<style scoped>\n    .dataframe tbody tr th:only-of-type {\n        vertical-align: middle;\n    }\n\n    .dataframe tbody tr th {\n        vertical-align: top;\n    }\n\n    .dataframe thead th {\n        text-align: right;\n    }\n</style>\n<table border=\"1\" class=\"dataframe\">\n  <thead>\n    <tr style=\"text-align: right;\">\n      <th></th>\n      <th>Distritos</th>\n      <th>Accessories Store</th>\n      <th>American Restaurant</th>\n      <th>Art Gallery</th>\n      <th>Art Museum</th>\n      <th>Art Studio</th>\n      <th>Arts &amp; Crafts Store</th>\n      <th>Asian Restaurant</th>\n      <th>Bakery</th>\n      <th>Bar</th>\n      <th>...</th>\n      <th>Sushi Restaurant</th>\n      <th>Taco Place</th>\n      <th>Tapas Restaurant</th>\n      <th>Theater</th>\n      <th>Theme Restaurant</th>\n      <th>Toy / Game Store</th>\n      <th>Train Station</th>\n      <th>Vegetarian / Vegan Restaurant</th>\n      <th>Wine Shop</th>\n      <th>Winery</th>\n    </tr>\n  </thead>\n  <tbody>\n    <tr>\n      <th>0</th>\n      <td>ARGANZUELA</td>\n      <td>0</td>\n      <td>0</td>\n      <td>1</td>\n      <td>0</td>\n      <td>0</td>\n      <td>0</td>\n      <td>0</td>\n      <td>0</td>\n      <td>0</td>\n      <td>...</td>\n      <td>0</td>\n      <td>0</td>\n      <td>0</td>\n      <td>0</td>\n      <td>0</td>\n      <td>0</td>\n      <td>0</td>\n      <td>0</td>\n      <td>0</td>\n      <td>0</td>\n    </tr>\n    <tr>\n      <th>1</th>\n      <td>ARGANZUELA</td>\n      <td>0</td>\n      <td>0</td>\n      <td>0</td>\n      <td>0</td>\n      <td>0</td>\n      <td>0</td>\n      <td>0</td>\n      <td>0</td>\n      <td>0</td>\n      <td>...</td>\n      <td>0</td>\n      <td>0</td>\n      <td>0</td>\n      <td>0</td>\n      <td>0</td>\n      <td>0</td>\n      <td>0</td>\n      <td>0</td>\n      <td>0</td>\n      <td>0</td>\n    </tr>\n    <tr>\n      <th>2</th>\n      <td>ARGANZUELA</td>\n      <td>0</td>\n      <td>0</td>\n      <td>1</td>\n      <td>0</td>\n      <td>0</td>\n      <td>0</td>\n      <td>0</td>\n      <td>0</td>\n      <td>0</td>\n      <td>...</td>\n      <td>0</td>\n      <td>0</td>\n      <td>0</td>\n      <td>0</td>\n      <td>0</td>\n      <td>0</td>\n      <td>0</td>\n      <td>0</td>\n      <td>0</td>\n      <td>0</td>\n    </tr>\n    <tr>\n      <th>3</th>\n      <td>ARGANZUELA</td>\n      <td>0</td>\n      <td>0</td>\n      <td>0</td>\n      <td>0</td>\n      <td>0</td>\n      <td>0</td>\n      <td>0</td>\n      <td>0</td>\n      <td>0</td>\n      <td>...</td>\n      <td>0</td>\n      <td>0</td>\n      <td>0</td>\n      <td>0</td>\n      <td>0</td>\n      <td>0</td>\n      <td>0</td>\n      <td>0</td>\n      <td>0</td>\n      <td>0</td>\n    </tr>\n    <tr>\n      <th>4</th>\n      <td>ARGANZUELA</td>\n      <td>0</td>\n      <td>0</td>\n      <td>0</td>\n      <td>0</td>\n      <td>0</td>\n      <td>0</td>\n      <td>0</td>\n      <td>0</td>\n      <td>0</td>\n      <td>...</td>\n      <td>0</td>\n      <td>0</td>\n      <td>0</td>\n      <td>0</td>\n      <td>0</td>\n      <td>0</td>\n      <td>0</td>\n      <td>0</td>\n      <td>0</td>\n      <td>0</td>\n    </tr>\n  </tbody>\n</table>\n<p>5 rows \u00d7 109 columns</p>\n</div>",
                        "text/plain": "    Distritos  Accessories Store  American Restaurant  Art Gallery  \\\n0  ARGANZUELA                  0                    0            1   \n1  ARGANZUELA                  0                    0            0   \n2  ARGANZUELA                  0                    0            1   \n3  ARGANZUELA                  0                    0            0   \n4  ARGANZUELA                  0                    0            0   \n\n   Art Museum  Art Studio  Arts & Crafts Store  Asian Restaurant  Bakery  Bar  \\\n0           0           0                    0                 0       0    0   \n1           0           0                    0                 0       0    0   \n2           0           0                    0                 0       0    0   \n3           0           0                    0                 0       0    0   \n4           0           0                    0                 0       0    0   \n\n   ...  Sushi Restaurant  Taco Place  Tapas Restaurant  Theater  \\\n0  ...                 0           0                 0        0   \n1  ...                 0           0                 0        0   \n2  ...                 0           0                 0        0   \n3  ...                 0           0                 0        0   \n4  ...                 0           0                 0        0   \n\n   Theme Restaurant  Toy / Game Store  Train Station  \\\n0                 0                 0              0   \n1                 0                 0              0   \n2                 0                 0              0   \n3                 0                 0              0   \n4                 0                 0              0   \n\n   Vegetarian / Vegan Restaurant  Wine Shop  Winery  \n0                              0          0       0  \n1                              0          0       0  \n2                              0          0       0  \n3                              0          0       0  \n4                              0          0       0  \n\n[5 rows x 109 columns]"
                    },
                    "execution_count": 221,
                    "metadata": {},
                    "output_type": "execute_result"
                }
            ],
            "source": "# one hot encoding\nmadrid_onehot = pd.get_dummies(madrid_venues[['Venue Category']], prefix=\"\", prefix_sep=\"\")\n\n# add neighborhood column back to dataframe\nmadrid_onehot['Distritos'] = madrid_venues['Distritos'] \n\n# move neighborhood column to the first column\nfixed_columns = [madrid_onehot.columns[-1]] + list(madrid_onehot.columns[:-1])\nmadrid_onehot = madrid_onehot[fixed_columns]\n\nmadrid_onehot.head()"
        },
        {
            "cell_type": "code",
            "execution_count": 222,
            "metadata": {},
            "outputs": [
                {
                    "data": {
                        "text/plain": "(414, 109)"
                    },
                    "execution_count": 222,
                    "metadata": {},
                    "output_type": "execute_result"
                }
            ],
            "source": "madrid_onehot.shape"
        },
        {
            "cell_type": "code",
            "execution_count": 223,
            "metadata": {},
            "outputs": [
                {
                    "data": {
                        "text/html": "<div>\n<style scoped>\n    .dataframe tbody tr th:only-of-type {\n        vertical-align: middle;\n    }\n\n    .dataframe tbody tr th {\n        vertical-align: top;\n    }\n\n    .dataframe thead th {\n        text-align: right;\n    }\n</style>\n<table border=\"1\" class=\"dataframe\">\n  <thead>\n    <tr style=\"text-align: right;\">\n      <th></th>\n      <th>Distritos</th>\n      <th>Accessories Store</th>\n      <th>American Restaurant</th>\n      <th>Art Gallery</th>\n      <th>Art Museum</th>\n      <th>Art Studio</th>\n      <th>Arts &amp; Crafts Store</th>\n      <th>Asian Restaurant</th>\n      <th>Bakery</th>\n      <th>Bar</th>\n      <th>...</th>\n      <th>Sushi Restaurant</th>\n      <th>Taco Place</th>\n      <th>Tapas Restaurant</th>\n      <th>Theater</th>\n      <th>Theme Restaurant</th>\n      <th>Toy / Game Store</th>\n      <th>Train Station</th>\n      <th>Vegetarian / Vegan Restaurant</th>\n      <th>Wine Shop</th>\n      <th>Winery</th>\n    </tr>\n  </thead>\n  <tbody>\n    <tr>\n      <th>0</th>\n      <td>ARGANZUELA</td>\n      <td>0.00</td>\n      <td>0.00</td>\n      <td>0.04</td>\n      <td>0.00</td>\n      <td>0.000000</td>\n      <td>0.00</td>\n      <td>0.000000</td>\n      <td>0.010000</td>\n      <td>0.100000</td>\n      <td>...</td>\n      <td>0.020000</td>\n      <td>0.00</td>\n      <td>0.080000</td>\n      <td>0.020000</td>\n      <td>0.01</td>\n      <td>0.00</td>\n      <td>0.01</td>\n      <td>0.01</td>\n      <td>0.010000</td>\n      <td>0.01</td>\n    </tr>\n    <tr>\n      <th>1</th>\n      <td>CENTRO</td>\n      <td>0.01</td>\n      <td>0.00</td>\n      <td>0.01</td>\n      <td>0.02</td>\n      <td>0.000000</td>\n      <td>0.00</td>\n      <td>0.010000</td>\n      <td>0.000000</td>\n      <td>0.000000</td>\n      <td>...</td>\n      <td>0.000000</td>\n      <td>0.00</td>\n      <td>0.050000</td>\n      <td>0.020000</td>\n      <td>0.00</td>\n      <td>0.00</td>\n      <td>0.00</td>\n      <td>0.01</td>\n      <td>0.000000</td>\n      <td>0.00</td>\n    </tr>\n    <tr>\n      <th>2</th>\n      <td>CHAMBERI</td>\n      <td>0.00</td>\n      <td>0.00</td>\n      <td>0.00</td>\n      <td>0.00</td>\n      <td>0.000000</td>\n      <td>0.00</td>\n      <td>0.021053</td>\n      <td>0.031579</td>\n      <td>0.115789</td>\n      <td>...</td>\n      <td>0.021053</td>\n      <td>0.00</td>\n      <td>0.042105</td>\n      <td>0.021053</td>\n      <td>0.00</td>\n      <td>0.00</td>\n      <td>0.00</td>\n      <td>0.00</td>\n      <td>0.010526</td>\n      <td>0.00</td>\n    </tr>\n    <tr>\n      <th>3</th>\n      <td>SALAMANCA</td>\n      <td>0.00</td>\n      <td>0.01</td>\n      <td>0.00</td>\n      <td>0.00</td>\n      <td>0.000000</td>\n      <td>0.01</td>\n      <td>0.010000</td>\n      <td>0.050000</td>\n      <td>0.000000</td>\n      <td>...</td>\n      <td>0.000000</td>\n      <td>0.01</td>\n      <td>0.020000</td>\n      <td>0.000000</td>\n      <td>0.00</td>\n      <td>0.01</td>\n      <td>0.00</td>\n      <td>0.00</td>\n      <td>0.000000</td>\n      <td>0.00</td>\n    </tr>\n    <tr>\n      <th>4</th>\n      <td>TETUAN</td>\n      <td>0.00</td>\n      <td>0.00</td>\n      <td>0.00</td>\n      <td>0.00</td>\n      <td>0.052632</td>\n      <td>0.00</td>\n      <td>0.000000</td>\n      <td>0.000000</td>\n      <td>0.000000</td>\n      <td>...</td>\n      <td>0.000000</td>\n      <td>0.00</td>\n      <td>0.052632</td>\n      <td>0.000000</td>\n      <td>0.00</td>\n      <td>0.00</td>\n      <td>0.00</td>\n      <td>0.00</td>\n      <td>0.000000</td>\n      <td>0.00</td>\n    </tr>\n  </tbody>\n</table>\n<p>5 rows \u00d7 109 columns</p>\n</div>",
                        "text/plain": "    Distritos  Accessories Store  American Restaurant  Art Gallery  \\\n0  ARGANZUELA               0.00                 0.00         0.04   \n1      CENTRO               0.01                 0.00         0.01   \n2    CHAMBERI               0.00                 0.00         0.00   \n3   SALAMANCA               0.00                 0.01         0.00   \n4      TETUAN               0.00                 0.00         0.00   \n\n   Art Museum  Art Studio  Arts & Crafts Store  Asian Restaurant    Bakery  \\\n0        0.00    0.000000                 0.00          0.000000  0.010000   \n1        0.02    0.000000                 0.00          0.010000  0.000000   \n2        0.00    0.000000                 0.00          0.021053  0.031579   \n3        0.00    0.000000                 0.01          0.010000  0.050000   \n4        0.00    0.052632                 0.00          0.000000  0.000000   \n\n        Bar  ...  Sushi Restaurant  Taco Place  Tapas Restaurant   Theater  \\\n0  0.100000  ...          0.020000        0.00          0.080000  0.020000   \n1  0.000000  ...          0.000000        0.00          0.050000  0.020000   \n2  0.115789  ...          0.021053        0.00          0.042105  0.021053   \n3  0.000000  ...          0.000000        0.01          0.020000  0.000000   \n4  0.000000  ...          0.000000        0.00          0.052632  0.000000   \n\n   Theme Restaurant  Toy / Game Store  Train Station  \\\n0              0.01              0.00           0.01   \n1              0.00              0.00           0.00   \n2              0.00              0.00           0.00   \n3              0.00              0.01           0.00   \n4              0.00              0.00           0.00   \n\n   Vegetarian / Vegan Restaurant  Wine Shop  Winery  \n0                           0.01   0.010000    0.01  \n1                           0.01   0.000000    0.00  \n2                           0.00   0.010526    0.00  \n3                           0.00   0.000000    0.00  \n4                           0.00   0.000000    0.00  \n\n[5 rows x 109 columns]"
                    },
                    "execution_count": 223,
                    "metadata": {},
                    "output_type": "execute_result"
                }
            ],
            "source": "madrid_grouped = madrid_onehot.groupby('Distritos').mean().reset_index()\nmadrid_grouped"
        },
        {
            "cell_type": "code",
            "execution_count": 224,
            "metadata": {},
            "outputs": [
                {
                    "name": "stdout",
                    "output_type": "stream",
                    "text": "----ARGANZUELA----\n                venue  freq\n0                 Bar  0.10\n1    Tapas Restaurant  0.08\n2          Restaurant  0.06\n3  Spanish Restaurant  0.06\n4         Art Gallery  0.04\n\n\n----CENTRO----\n              venue  freq\n0             Plaza  0.08\n1             Hotel  0.08\n2    Clothing Store  0.06\n3  Tapas Restaurant  0.05\n4            Hostel  0.04\n\n\n----CHAMBERI----\n                venue  freq\n0                 Bar  0.12\n1  Spanish Restaurant  0.08\n2          Restaurant  0.04\n3                Caf\u00e9  0.04\n4    Tapas Restaurant  0.04\n\n\n----SALAMANCA----\n                venue  freq\n0          Restaurant  0.21\n1  Spanish Restaurant  0.17\n2              Bakery  0.05\n3        Burger Joint  0.04\n4      Ice Cream Shop  0.04\n\n\n----TETUAN----\n                venue  freq\n0  Spanish Restaurant  0.21\n1      Ice Cream Shop  0.05\n2       Grocery Store  0.05\n3          Restaurant  0.05\n4                Park  0.05\n\n\n"
                }
            ],
            "source": "num_top_venues = 5\n\nfor hood in madrid_grouped['Distritos']:\n    print(\"----\"+hood+\"----\")\n    temp = madrid_grouped[madrid_grouped['Distritos'] == hood].T.reset_index()\n    temp.columns = ['venue','freq']\n    temp = temp.iloc[1:]\n    temp['freq'] = temp['freq'].astype(float)\n    temp = temp.round({'freq': 2})\n    print(temp.sort_values('freq', ascending=False).reset_index(drop=True).head(num_top_venues))\n    print('\\n')"
        },
        {
            "cell_type": "markdown",
            "metadata": {},
            "source": "### Most common venues"
        },
        {
            "cell_type": "code",
            "execution_count": 225,
            "metadata": {},
            "outputs": [],
            "source": "def return_most_common_venues(row, num_top_venues):\n    row_categories = row.iloc[1:]\n    row_categories_sorted = row_categories.sort_values(ascending=False)\n    \n    return row_categories_sorted.index.values[0:num_top_venues]"
        },
        {
            "cell_type": "code",
            "execution_count": 226,
            "metadata": {
                "scrolled": false
            },
            "outputs": [
                {
                    "data": {
                        "text/html": "<div>\n<style scoped>\n    .dataframe tbody tr th:only-of-type {\n        vertical-align: middle;\n    }\n\n    .dataframe tbody tr th {\n        vertical-align: top;\n    }\n\n    .dataframe thead th {\n        text-align: right;\n    }\n</style>\n<table border=\"1\" class=\"dataframe\">\n  <thead>\n    <tr style=\"text-align: right;\">\n      <th></th>\n      <th>Distritos</th>\n      <th>1st Most Common Venue</th>\n      <th>2nd Most Common Venue</th>\n      <th>3rd Most Common Venue</th>\n      <th>4th Most Common Venue</th>\n      <th>5th Most Common Venue</th>\n      <th>6th Most Common Venue</th>\n      <th>7th Most Common Venue</th>\n      <th>8th Most Common Venue</th>\n      <th>9th Most Common Venue</th>\n      <th>10th Most Common Venue</th>\n    </tr>\n  </thead>\n  <tbody>\n    <tr>\n      <th>0</th>\n      <td>ARGANZUELA</td>\n      <td>Bar</td>\n      <td>Tapas Restaurant</td>\n      <td>Restaurant</td>\n      <td>Spanish Restaurant</td>\n      <td>Caf\u00e9</td>\n      <td>Art Gallery</td>\n      <td>Plaza</td>\n      <td>Indie Theater</td>\n      <td>Coffee Shop</td>\n      <td>Bookstore</td>\n    </tr>\n    <tr>\n      <th>1</th>\n      <td>CENTRO</td>\n      <td>Plaza</td>\n      <td>Hotel</td>\n      <td>Clothing Store</td>\n      <td>Tapas Restaurant</td>\n      <td>Restaurant</td>\n      <td>Hostel</td>\n      <td>Caf\u00e9</td>\n      <td>Cocktail Bar</td>\n      <td>Bookstore</td>\n      <td>Gourmet Shop</td>\n    </tr>\n    <tr>\n      <th>2</th>\n      <td>CHAMBERI</td>\n      <td>Bar</td>\n      <td>Spanish Restaurant</td>\n      <td>Pub</td>\n      <td>Tapas Restaurant</td>\n      <td>Caf\u00e9</td>\n      <td>Restaurant</td>\n      <td>Sandwich Place</td>\n      <td>Beer Garden</td>\n      <td>Italian Restaurant</td>\n      <td>Coffee Shop</td>\n    </tr>\n    <tr>\n      <th>3</th>\n      <td>SALAMANCA</td>\n      <td>Restaurant</td>\n      <td>Spanish Restaurant</td>\n      <td>Bakery</td>\n      <td>Ice Cream Shop</td>\n      <td>Burger Joint</td>\n      <td>Caf\u00e9</td>\n      <td>Dessert Shop</td>\n      <td>Italian Restaurant</td>\n      <td>Tapas Restaurant</td>\n      <td>Clothing Store</td>\n    </tr>\n    <tr>\n      <th>4</th>\n      <td>TETUAN</td>\n      <td>Spanish Restaurant</td>\n      <td>Hobby Shop</td>\n      <td>Gym / Fitness Center</td>\n      <td>Ice Cream Shop</td>\n      <td>Mediterranean Restaurant</td>\n      <td>Mexican Restaurant</td>\n      <td>Park</td>\n      <td>Pizza Place</td>\n      <td>Restaurant</td>\n      <td>Breakfast Spot</td>\n    </tr>\n  </tbody>\n</table>\n</div>",
                        "text/plain": "    Distritos 1st Most Common Venue 2nd Most Common Venue  \\\n0  ARGANZUELA                   Bar      Tapas Restaurant   \n1      CENTRO                 Plaza                 Hotel   \n2    CHAMBERI                   Bar    Spanish Restaurant   \n3   SALAMANCA            Restaurant    Spanish Restaurant   \n4      TETUAN    Spanish Restaurant            Hobby Shop   \n\n  3rd Most Common Venue 4th Most Common Venue     5th Most Common Venue  \\\n0            Restaurant    Spanish Restaurant                      Caf\u00e9   \n1        Clothing Store      Tapas Restaurant                Restaurant   \n2                   Pub      Tapas Restaurant                      Caf\u00e9   \n3                Bakery        Ice Cream Shop              Burger Joint   \n4  Gym / Fitness Center        Ice Cream Shop  Mediterranean Restaurant   \n\n  6th Most Common Venue 7th Most Common Venue 8th Most Common Venue  \\\n0           Art Gallery                 Plaza         Indie Theater   \n1                Hostel                  Caf\u00e9          Cocktail Bar   \n2            Restaurant        Sandwich Place           Beer Garden   \n3                  Caf\u00e9          Dessert Shop    Italian Restaurant   \n4    Mexican Restaurant                  Park           Pizza Place   \n\n  9th Most Common Venue 10th Most Common Venue  \n0           Coffee Shop              Bookstore  \n1             Bookstore           Gourmet Shop  \n2    Italian Restaurant            Coffee Shop  \n3      Tapas Restaurant         Clothing Store  \n4            Restaurant         Breakfast Spot  "
                    },
                    "execution_count": 226,
                    "metadata": {},
                    "output_type": "execute_result"
                }
            ],
            "source": "num_top_venues = 10\n\nindicators = ['st', 'nd', 'rd']\n\n# create columns according to number of top venues\ncolumns = ['Distritos']\nfor ind in np.arange(num_top_venues):\n    try:\n        columns.append('{}{} Most Common Venue'.format(ind+1, indicators[ind]))\n    except:\n        columns.append('{}th Most Common Venue'.format(ind+1))\n\n# create a new dataframe\nneighborhoods_venues_sorted = pd.DataFrame(columns=columns)\nneighborhoods_venues_sorted['Distritos'] = madrid_grouped['Distritos']\n\nfor ind in np.arange(madrid_grouped.shape[0]):\n    neighborhoods_venues_sorted.iloc[ind, 1:] = return_most_common_venues(madrid_grouped.iloc[ind, :], num_top_venues)\n\nneighborhoods_venues_sorted.head()"
        },
        {
            "cell_type": "code",
            "execution_count": 229,
            "metadata": {},
            "outputs": [
                {
                    "data": {
                        "text/plain": "array([1, 3, 1, 2, 0], dtype=int32)"
                    },
                    "execution_count": 229,
                    "metadata": {},
                    "output_type": "execute_result"
                }
            ],
            "source": "\nfrom sklearn.cluster import KMeans\n# set number of clusters\nkclusters = 4\n\nmadrid_grouped_clustering = madrid_grouped.drop('Distritos', 1)\n\n# run k-means clustering\nkmeans = KMeans(n_clusters=kclusters, random_state=0).fit(madrid_grouped_clustering)\n\n# check cluster labels generated for each row in the dataframe\nkmeans.labels_[0:]"
        },
        {
            "cell_type": "code",
            "execution_count": 230,
            "metadata": {},
            "outputs": [],
            "source": "# add clustering labels\nneighborhoods_venues_sorted.insert(0, 'Cluster Label', kmeans.labels_)\n\nmadrid_merged = top5\n\n# merge toronto_grouped with toronto_data to add latitude/longitude for each neighborhood\nmadrid_mergedfinal = madrid_merged.join(neighborhoods_venues_sorted.set_index('Distritos'), on='Distritos')"
        },
        {
            "cell_type": "code",
            "execution_count": 231,
            "metadata": {},
            "outputs": [
                {
                    "data": {
                        "text/html": "<div>\n<style scoped>\n    .dataframe tbody tr th:only-of-type {\n        vertical-align: middle;\n    }\n\n    .dataframe tbody tr th {\n        vertical-align: top;\n    }\n\n    .dataframe thead th {\n        text-align: right;\n    }\n</style>\n<table border=\"1\" class=\"dataframe\">\n  <thead>\n    <tr style=\"text-align: right;\">\n      <th></th>\n      <th>Distritos</th>\n      <th>Longitud</th>\n      <th>Latitud</th>\n      <th>Densidadkm2</th>\n      <th>Cluster Label</th>\n      <th>1st Most Common Venue</th>\n      <th>2nd Most Common Venue</th>\n      <th>3rd Most Common Venue</th>\n      <th>4th Most Common Venue</th>\n      <th>5th Most Common Venue</th>\n      <th>6th Most Common Venue</th>\n      <th>7th Most Common Venue</th>\n      <th>8th Most Common Venue</th>\n      <th>9th Most Common Venue</th>\n      <th>10th Most Common Venue</th>\n    </tr>\n  </thead>\n  <tbody>\n    <tr>\n      <th>0</th>\n      <td>ARGANZUELA</td>\n      <td>-3.703536</td>\n      <td>40.404592</td>\n      <td>23306.44</td>\n      <td>1</td>\n      <td>Bar</td>\n      <td>Tapas Restaurant</td>\n      <td>Restaurant</td>\n      <td>Spanish Restaurant</td>\n      <td>Caf\u00e9</td>\n      <td>Art Gallery</td>\n      <td>Plaza</td>\n      <td>Indie Theater</td>\n      <td>Coffee Shop</td>\n      <td>Bookstore</td>\n    </tr>\n    <tr>\n      <th>3</th>\n      <td>CENTRO</td>\n      <td>-3.703944</td>\n      <td>40.418897</td>\n      <td>25340.69</td>\n      <td>3</td>\n      <td>Plaza</td>\n      <td>Hotel</td>\n      <td>Clothing Store</td>\n      <td>Tapas Restaurant</td>\n      <td>Restaurant</td>\n      <td>Hostel</td>\n      <td>Caf\u00e9</td>\n      <td>Cocktail Bar</td>\n      <td>Bookstore</td>\n      <td>Gourmet Shop</td>\n    </tr>\n    <tr>\n      <th>5</th>\n      <td>CHAMBERI</td>\n      <td>-3.711703</td>\n      <td>40.434694</td>\n      <td>29049.26</td>\n      <td>1</td>\n      <td>Bar</td>\n      <td>Spanish Restaurant</td>\n      <td>Pub</td>\n      <td>Tapas Restaurant</td>\n      <td>Caf\u00e9</td>\n      <td>Restaurant</td>\n      <td>Sandwich Place</td>\n      <td>Beer Garden</td>\n      <td>Italian Restaurant</td>\n      <td>Coffee Shop</td>\n    </tr>\n    <tr>\n      <th>14</th>\n      <td>SALAMANCA</td>\n      <td>-3.681403</td>\n      <td>40.421958</td>\n      <td>26830.78</td>\n      <td>2</td>\n      <td>Restaurant</td>\n      <td>Spanish Restaurant</td>\n      <td>Bakery</td>\n      <td>Ice Cream Shop</td>\n      <td>Burger Joint</td>\n      <td>Caf\u00e9</td>\n      <td>Dessert Shop</td>\n      <td>Italian Restaurant</td>\n      <td>Tapas Restaurant</td>\n      <td>Clothing Store</td>\n    </tr>\n    <tr>\n      <th>16</th>\n      <td>TETUAN</td>\n      <td>-3.704361</td>\n      <td>40.464525</td>\n      <td>28664.25</td>\n      <td>0</td>\n      <td>Spanish Restaurant</td>\n      <td>Hobby Shop</td>\n      <td>Gym / Fitness Center</td>\n      <td>Ice Cream Shop</td>\n      <td>Mediterranean Restaurant</td>\n      <td>Mexican Restaurant</td>\n      <td>Park</td>\n      <td>Pizza Place</td>\n      <td>Restaurant</td>\n      <td>Breakfast Spot</td>\n    </tr>\n  </tbody>\n</table>\n</div>",
                        "text/plain": "     Distritos  Longitud    Latitud  Densidadkm2  Cluster Label  \\\n0   ARGANZUELA -3.703536  40.404592     23306.44              1   \n3       CENTRO -3.703944  40.418897     25340.69              3   \n5     CHAMBERI -3.711703  40.434694     29049.26              1   \n14   SALAMANCA -3.681403  40.421958     26830.78              2   \n16      TETUAN -3.704361  40.464525     28664.25              0   \n\n   1st Most Common Venue 2nd Most Common Venue 3rd Most Common Venue  \\\n0                    Bar      Tapas Restaurant            Restaurant   \n3                  Plaza                 Hotel        Clothing Store   \n5                    Bar    Spanish Restaurant                   Pub   \n14            Restaurant    Spanish Restaurant                Bakery   \n16    Spanish Restaurant            Hobby Shop  Gym / Fitness Center   \n\n   4th Most Common Venue     5th Most Common Venue 6th Most Common Venue  \\\n0     Spanish Restaurant                      Caf\u00e9           Art Gallery   \n3       Tapas Restaurant                Restaurant                Hostel   \n5       Tapas Restaurant                      Caf\u00e9            Restaurant   \n14        Ice Cream Shop              Burger Joint                  Caf\u00e9   \n16        Ice Cream Shop  Mediterranean Restaurant    Mexican Restaurant   \n\n   7th Most Common Venue 8th Most Common Venue 9th Most Common Venue  \\\n0                  Plaza         Indie Theater           Coffee Shop   \n3                   Caf\u00e9          Cocktail Bar             Bookstore   \n5         Sandwich Place           Beer Garden    Italian Restaurant   \n14          Dessert Shop    Italian Restaurant      Tapas Restaurant   \n16                  Park           Pizza Place            Restaurant   \n\n   10th Most Common Venue  \n0               Bookstore  \n3            Gourmet Shop  \n5             Coffee Shop  \n14         Clothing Store  \n16         Breakfast Spot  "
                    },
                    "execution_count": 231,
                    "metadata": {},
                    "output_type": "execute_result"
                }
            ],
            "source": "madrid_mergedfinal.head()"
        },
        {
            "cell_type": "code",
            "execution_count": 233,
            "metadata": {},
            "outputs": [
                {
                    "data": {
                        "text/html": "<div style=\"width:100%;\"><div style=\"position:relative;width:100%;height:0;padding-bottom:60%;\"><span style=\"color:#565656\">Make this Notebook Trusted to load map: File -> Trust Notebook</span><iframe src=\"about:blank\" style=\"position:absolute;width:100%;height:100%;left:0;top:0;border:none !important;\" data-html=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 onload=\"this.contentDocument.open();this.contentDocument.write(atob(this.getAttribute('data-html')));this.contentDocument.close();\" allowfullscreen webkitallowfullscreen mozallowfullscreen></iframe></div></div>",
                        "text/plain": "<folium.folium.Map at 0x7fe394326160>"
                    },
                    "execution_count": 233,
                    "metadata": {},
                    "output_type": "execute_result"
                }
            ],
            "source": "# create map\nmap_clusters = folium.Map(location=[40.4115, -3.7076], zoom_start=12)\n\n# set color scheme for the clusters\nx = np.arange(kclusters)\nys = [i + x + (i*x)**2 for i in range(kclusters)]\ncolors_array = cm.rainbow(np.linspace(0, 1, len(ys)))\nrainbow = [colors.rgb2hex(i) for i in colors_array]\n\n# add markers to the map\nmarkers_colors = []\nfor lat, lon, poi, cluster in zip(madrid_mergedfinal['Latitud'], madrid_mergedfinal['Longitud'], madrid_mergedfinal['Distritos'], madrid_mergedfinal['Cluster Label']):\n    label = folium.Popup(str(poi) + ' Cluster ' + str(cluster), parse_html=True)\n    folium.CircleMarker(\n        [lat, lon],\n        radius=5,\n        popup=label,\n        color=rainbow[cluster-1],\n        fill=True,\n        fill_color=rainbow[cluster-1],\n        fill_opacity=0.7).add_to(map_clusters)\n       \nmap_clusters"
        },
        {
            "cell_type": "markdown",
            "metadata": {},
            "source": "### Cluster 1: Residential"
        },
        {
            "cell_type": "markdown",
            "metadata": {},
            "source": "I decided to call this the residential cluster as fitness centers are very common, there are parks and hobby shops are one of the most common categories. These indicate that this district isn't very touristy."
        },
        {
            "cell_type": "code",
            "execution_count": 239,
            "metadata": {},
            "outputs": [
                {
                    "data": {
                        "text/html": "<div>\n<style scoped>\n    .dataframe tbody tr th:only-of-type {\n        vertical-align: middle;\n    }\n\n    .dataframe tbody tr th {\n        vertical-align: top;\n    }\n\n    .dataframe thead th {\n        text-align: right;\n    }\n</style>\n<table border=\"1\" class=\"dataframe\">\n  <thead>\n    <tr style=\"text-align: right;\">\n      <th></th>\n      <th>Distritos</th>\n      <th>1st Most Common Venue</th>\n      <th>2nd Most Common Venue</th>\n      <th>3rd Most Common Venue</th>\n      <th>4th Most Common Venue</th>\n      <th>5th Most Common Venue</th>\n      <th>6th Most Common Venue</th>\n      <th>7th Most Common Venue</th>\n      <th>8th Most Common Venue</th>\n      <th>9th Most Common Venue</th>\n      <th>10th Most Common Venue</th>\n    </tr>\n  </thead>\n  <tbody>\n    <tr>\n      <th>16</th>\n      <td>TETUAN</td>\n      <td>Spanish Restaurant</td>\n      <td>Hobby Shop</td>\n      <td>Gym / Fitness Center</td>\n      <td>Ice Cream Shop</td>\n      <td>Mediterranean Restaurant</td>\n      <td>Mexican Restaurant</td>\n      <td>Park</td>\n      <td>Pizza Place</td>\n      <td>Restaurant</td>\n      <td>Breakfast Spot</td>\n    </tr>\n  </tbody>\n</table>\n</div>",
                        "text/plain": "   Distritos 1st Most Common Venue 2nd Most Common Venue  \\\n16    TETUAN    Spanish Restaurant            Hobby Shop   \n\n   3rd Most Common Venue 4th Most Common Venue     5th Most Common Venue  \\\n16  Gym / Fitness Center        Ice Cream Shop  Mediterranean Restaurant   \n\n   6th Most Common Venue 7th Most Common Venue 8th Most Common Venue  \\\n16    Mexican Restaurant                  Park           Pizza Place   \n\n   9th Most Common Venue 10th Most Common Venue  \n16            Restaurant         Breakfast Spot  "
                    },
                    "execution_count": 239,
                    "metadata": {},
                    "output_type": "execute_result"
                }
            ],
            "source": "madrid_mergedfinal.loc[madrid_mergedfinal['Cluster Label'] == 0, madrid_mergedfinal.columns[[0] + list(range(5, madrid_mergedfinal.shape[1]))]]"
        },
        {
            "cell_type": "markdown",
            "metadata": {},
            "source": "### Cluster 2: Dining Cluster"
        },
        {
            "cell_type": "markdown",
            "metadata": {},
            "source": "This cluster includes a variety of venues but mostly related to bars and restaurants. These districts are probably very busy as there are many dining places."
        },
        {
            "cell_type": "code",
            "execution_count": 241,
            "metadata": {},
            "outputs": [
                {
                    "data": {
                        "text/html": "<div>\n<style scoped>\n    .dataframe tbody tr th:only-of-type {\n        vertical-align: middle;\n    }\n\n    .dataframe tbody tr th {\n        vertical-align: top;\n    }\n\n    .dataframe thead th {\n        text-align: right;\n    }\n</style>\n<table border=\"1\" class=\"dataframe\">\n  <thead>\n    <tr style=\"text-align: right;\">\n      <th></th>\n      <th>Distritos</th>\n      <th>1st Most Common Venue</th>\n      <th>2nd Most Common Venue</th>\n      <th>3rd Most Common Venue</th>\n      <th>4th Most Common Venue</th>\n      <th>5th Most Common Venue</th>\n      <th>6th Most Common Venue</th>\n      <th>7th Most Common Venue</th>\n      <th>8th Most Common Venue</th>\n      <th>9th Most Common Venue</th>\n      <th>10th Most Common Venue</th>\n    </tr>\n  </thead>\n  <tbody>\n    <tr>\n      <th>0</th>\n      <td>ARGANZUELA</td>\n      <td>Bar</td>\n      <td>Tapas Restaurant</td>\n      <td>Restaurant</td>\n      <td>Spanish Restaurant</td>\n      <td>Caf\u00e9</td>\n      <td>Art Gallery</td>\n      <td>Plaza</td>\n      <td>Indie Theater</td>\n      <td>Coffee Shop</td>\n      <td>Bookstore</td>\n    </tr>\n    <tr>\n      <th>5</th>\n      <td>CHAMBERI</td>\n      <td>Bar</td>\n      <td>Spanish Restaurant</td>\n      <td>Pub</td>\n      <td>Tapas Restaurant</td>\n      <td>Caf\u00e9</td>\n      <td>Restaurant</td>\n      <td>Sandwich Place</td>\n      <td>Beer Garden</td>\n      <td>Italian Restaurant</td>\n      <td>Coffee Shop</td>\n    </tr>\n  </tbody>\n</table>\n</div>",
                        "text/plain": "    Distritos 1st Most Common Venue 2nd Most Common Venue  \\\n0  ARGANZUELA                   Bar      Tapas Restaurant   \n5    CHAMBERI                   Bar    Spanish Restaurant   \n\n  3rd Most Common Venue 4th Most Common Venue 5th Most Common Venue  \\\n0            Restaurant    Spanish Restaurant                  Caf\u00e9   \n5                   Pub      Tapas Restaurant                  Caf\u00e9   \n\n  6th Most Common Venue 7th Most Common Venue 8th Most Common Venue  \\\n0           Art Gallery                 Plaza         Indie Theater   \n5            Restaurant        Sandwich Place           Beer Garden   \n\n  9th Most Common Venue 10th Most Common Venue  \n0           Coffee Shop              Bookstore  \n5    Italian Restaurant            Coffee Shop  "
                    },
                    "execution_count": 241,
                    "metadata": {},
                    "output_type": "execute_result"
                }
            ],
            "source": "madrid_mergedfinal.loc[madrid_mergedfinal['Cluster Label'] == 1, madrid_mergedfinal.columns[[0] + list(range(5, madrid_mergedfinal.shape[1]))]]"
        },
        {
            "cell_type": "markdown",
            "metadata": {},
            "source": "## Cluster 3: Dessert Area"
        },
        {
            "cell_type": "markdown",
            "metadata": {},
            "source": "This cluster shows many different dessert/coffee places among their most common venues."
        },
        {
            "cell_type": "code",
            "execution_count": 242,
            "metadata": {
                "scrolled": true
            },
            "outputs": [
                {
                    "data": {
                        "text/html": "<div>\n<style scoped>\n    .dataframe tbody tr th:only-of-type {\n        vertical-align: middle;\n    }\n\n    .dataframe tbody tr th {\n        vertical-align: top;\n    }\n\n    .dataframe thead th {\n        text-align: right;\n    }\n</style>\n<table border=\"1\" class=\"dataframe\">\n  <thead>\n    <tr style=\"text-align: right;\">\n      <th></th>\n      <th>Distritos</th>\n      <th>1st Most Common Venue</th>\n      <th>2nd Most Common Venue</th>\n      <th>3rd Most Common Venue</th>\n      <th>4th Most Common Venue</th>\n      <th>5th Most Common Venue</th>\n      <th>6th Most Common Venue</th>\n      <th>7th Most Common Venue</th>\n      <th>8th Most Common Venue</th>\n      <th>9th Most Common Venue</th>\n      <th>10th Most Common Venue</th>\n    </tr>\n  </thead>\n  <tbody>\n    <tr>\n      <th>14</th>\n      <td>SALAMANCA</td>\n      <td>Restaurant</td>\n      <td>Spanish Restaurant</td>\n      <td>Bakery</td>\n      <td>Ice Cream Shop</td>\n      <td>Burger Joint</td>\n      <td>Caf\u00e9</td>\n      <td>Dessert Shop</td>\n      <td>Italian Restaurant</td>\n      <td>Tapas Restaurant</td>\n      <td>Clothing Store</td>\n    </tr>\n  </tbody>\n</table>\n</div>",
                        "text/plain": "    Distritos 1st Most Common Venue 2nd Most Common Venue  \\\n14  SALAMANCA            Restaurant    Spanish Restaurant   \n\n   3rd Most Common Venue 4th Most Common Venue 5th Most Common Venue  \\\n14                Bakery        Ice Cream Shop          Burger Joint   \n\n   6th Most Common Venue 7th Most Common Venue 8th Most Common Venue  \\\n14                  Caf\u00e9          Dessert Shop    Italian Restaurant   \n\n   9th Most Common Venue 10th Most Common Venue  \n14      Tapas Restaurant         Clothing Store  "
                    },
                    "execution_count": 242,
                    "metadata": {},
                    "output_type": "execute_result"
                }
            ],
            "source": "madrid_mergedfinal.loc[madrid_mergedfinal['Cluster Label'] == 2, madrid_mergedfinal.columns[[0] + list(range(5, madrid_mergedfinal.shape[1]))]]"
        },
        {
            "cell_type": "markdown",
            "metadata": {},
            "source": "## Cluster 4: Tourist Area"
        },
        {
            "cell_type": "markdown",
            "metadata": {},
            "source": "This cluster has been marked as tourist area as hotels and hostels are very common along with plazas and a good variety of shops and restaurants."
        },
        {
            "cell_type": "code",
            "execution_count": 243,
            "metadata": {},
            "outputs": [
                {
                    "data": {
                        "text/html": "<div>\n<style scoped>\n    .dataframe tbody tr th:only-of-type {\n        vertical-align: middle;\n    }\n\n    .dataframe tbody tr th {\n        vertical-align: top;\n    }\n\n    .dataframe thead th {\n        text-align: right;\n    }\n</style>\n<table border=\"1\" class=\"dataframe\">\n  <thead>\n    <tr style=\"text-align: right;\">\n      <th></th>\n      <th>Distritos</th>\n      <th>1st Most Common Venue</th>\n      <th>2nd Most Common Venue</th>\n      <th>3rd Most Common Venue</th>\n      <th>4th Most Common Venue</th>\n      <th>5th Most Common Venue</th>\n      <th>6th Most Common Venue</th>\n      <th>7th Most Common Venue</th>\n      <th>8th Most Common Venue</th>\n      <th>9th Most Common Venue</th>\n      <th>10th Most Common Venue</th>\n    </tr>\n  </thead>\n  <tbody>\n    <tr>\n      <th>3</th>\n      <td>CENTRO</td>\n      <td>Plaza</td>\n      <td>Hotel</td>\n      <td>Clothing Store</td>\n      <td>Tapas Restaurant</td>\n      <td>Restaurant</td>\n      <td>Hostel</td>\n      <td>Caf\u00e9</td>\n      <td>Cocktail Bar</td>\n      <td>Bookstore</td>\n      <td>Gourmet Shop</td>\n    </tr>\n  </tbody>\n</table>\n</div>",
                        "text/plain": "  Distritos 1st Most Common Venue 2nd Most Common Venue 3rd Most Common Venue  \\\n3    CENTRO                 Plaza                 Hotel        Clothing Store   \n\n  4th Most Common Venue 5th Most Common Venue 6th Most Common Venue  \\\n3      Tapas Restaurant            Restaurant                Hostel   \n\n  7th Most Common Venue 8th Most Common Venue 9th Most Common Venue  \\\n3                  Caf\u00e9          Cocktail Bar             Bookstore   \n\n  10th Most Common Venue  \n3           Gourmet Shop  "
                    },
                    "execution_count": 243,
                    "metadata": {},
                    "output_type": "execute_result"
                }
            ],
            "source": "madrid_mergedfinal.loc[madrid_mergedfinal['Cluster Label'] == 3, madrid_mergedfinal.columns[[0] + list(range(5, madrid_mergedfinal.shape[1]))]]"
        },
        {
            "cell_type": "markdown",
            "metadata": {},
            "source": "Since we are looking to open a specialty cookie shop, we are looking for a district that does not have coffee shops or dessert shops as their most common venue (they are very similar in category to our own business idea) so we would not want to overcrowd the area. We are looking for an area with a good variety of venues as that guarantees that it is a busy area.\n\nWe are ruling Tetuan in cluster 1 out as two of the most common venues are a hobby shops and fitness centers. They don't seem to be very compatible with our product and target audience and they already have ice cream shops that could satisfy the dessert need in that area.\n\nWe are also ruling Salamanca in cluster 3 out as there are many bakeries, dessert shops and coffee shops, which all fall under the same category. There would be too much competition and not too big of a venue category variety.\n\nOut of Arganzuela, Centro and Chamberi, Centro in cluster 4 would be our ideal candidate. Centro has a plaza as a most common venue, which means people might want something to snack on while there, hotels and stores are also present, so their guests and customers might also want something quick to eat and there are restaurants and food places, so our cookies could work for dessert. There are also coffee shops but they are only the 10th most common type of venue, so we will not overcrowd and this shows that this area is also not a no-go for our category. Our cluster 2 with districts Chamberi and Arganzuela, would be our second option as it is the dining cluster and dessert places could be fitting."
        },
        {
            "cell_type": "markdown",
            "metadata": {},
            "source": "# Putting everything together"
        },
        {
            "cell_type": "markdown",
            "metadata": {},
            "source": "Based on our clustering and venue analysis, we would choose Centro as our target district. However, based on population, we would choose Chamberi, as the most populated district. Centro is our fourth most populated district.\n\nThe second cluster includes Chamberi and Arganzuela. Therefore, considering the results of population analysis and venue analysis, we would end up choosing Chamberi, being the most populated district and still in our second cluster of preference. Choosing Centro would sacrifice choosing the fourth most populated district, whereas Chamberi seems like the best compromise considering both variables."
        },
        {
            "cell_type": "code",
            "execution_count": null,
            "metadata": {},
            "outputs": [],
            "source": ""
        }
    ],
    "metadata": {
        "kernelspec": {
            "display_name": "Python 3.6",
            "language": "python",
            "name": "python3"
        },
        "language_info": {
            "codemirror_mode": {
                "name": "ipython",
                "version": 3
            },
            "file_extension": ".py",
            "mimetype": "text/x-python",
            "name": "python",
            "nbconvert_exporter": "python",
            "pygments_lexer": "ipython3",
            "version": "3.6.9"
        }
    },
    "nbformat": 4,
    "nbformat_minor": 1
}