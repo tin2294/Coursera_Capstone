{
    "cells": [
        {
            "cell_type": "markdown",
            "metadata": {
                "collapsed": true
            },
            "source": "# Final Capstone Project: The Battle of the Neighborhoods"
        },
        {
            "cell_type": "markdown",
            "metadata": {},
            "source": "## Introduction: Business Problem"
        },
        {
            "cell_type": "markdown",
            "metadata": {},
            "source": "#### Opening a new business in Madrid"
        },
        {
            "cell_type": "markdown",
            "metadata": {},
            "source": "Madrid is the capital city of Spain and one of the main economic hubs for the country. It is also the destination of many tourists and many people seeking professional opportunities both from Spain and from the rest of the world. Therefore, there is no wonder why our client chose this place to open their new business.\n\n\nSince our client made up their mind about the city where they would like to open their new business, a specialty cookie shop, a business idea imported from their home country. As they are not from Madrid and are not very familiar with the different boroughs within the city, they are seeking our help to make the best decision in regards to what neighborhood they should be targeting.\n\nIn order to solve their problem, we will analyze the different boroughs in Madrid: we will study the population density of each borough, the venue categories in each of them (to make sure they aren't overcrowded with dessert shops), as well as foot traffic. These aspects will helps us determine which neighborhood is best for our client."
        },
        {
            "cell_type": "markdown",
            "metadata": {},
            "source": "<img src=\"https://www.telegraph.co.uk/content/dam/Travel/Destinations/Europe/Spain/Madrid/gran-via-madrid-night-lead-guide.jpg?imwidth=1400\" alt=\"alternatetext\" style=\"width:600px;height:400px;\">"
        },
        {
            "cell_type": "markdown",
            "metadata": {},
            "source": "## Data"
        },
        {
            "cell_type": "markdown",
            "metadata": {},
            "source": "In order to execute our analysis, we will be using the following data sets/sources:\n\n* Foursquare API will allow us to retrieve the venue categories and information, as well as foot traffic/popularity of the spots\n* Callejero_Vigente CSV from the official Madrid website, which contains information on each borough, district, postal code, type of road, coordinates, etc. This set will allow us to locate and list the different neighborhoods to be considered for the new business as well as their location.\n* Population data set from Wikipedia, which includes population data for each district. This will be helpful for our analysis because they could be potential loyal and usual customers."
        },
        {
            "cell_type": "code",
            "execution_count": null,
            "metadata": {},
            "outputs": [],
            "source": ""
        }
    ],
    "metadata": {
        "kernelspec": {
            "display_name": "Python 3.6",
            "language": "python",
            "name": "python3"
        },
        "language_info": {
            "codemirror_mode": {
                "name": "ipython",
                "version": 3
            },
            "file_extension": ".py",
            "mimetype": "text/x-python",
            "name": "python",
            "nbconvert_exporter": "python",
            "pygments_lexer": "ipython3",
            "version": "3.6.9"
        }
    },
    "nbformat": 4,
    "nbformat_minor": 1
}