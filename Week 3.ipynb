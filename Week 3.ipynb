{
    "cells": [
        {
            "metadata": {},
            "cell_type": "markdown",
            "source": "# Toronto Capstone Project"
        },
        {
            "metadata": {},
            "cell_type": "markdown",
            "source": "## Part 1 of Assignment"
        },
        {
            "metadata": {},
            "cell_type": "markdown",
            "source": "#### Importing and processing data"
        },
        {
            "metadata": {},
            "cell_type": "code",
            "source": "import requests\nimport lxml.html as lh\nimport bs4 as bs4\nimport urllib.request\nimport pandas as pd\nimport numpy as np ",
            "execution_count": 50,
            "outputs": []
        },
        {
            "metadata": {},
            "cell_type": "code",
            "source": "url = \"https://en.wikipedia.org/wiki/List_of_postal_codes_of_Canada:_M\"\nlink = requests.get(url)\nsoup = bs4.BeautifulSoup(link.content,'lxml')\ntable = soup.find_all('table')[0]\ntor = pd.read_html(str(table))\ntoronto = pd.read_json(tor[0].to_json(orient='records'))",
            "execution_count": 42,
            "outputs": []
        },
        {
            "metadata": {},
            "cell_type": "code",
            "source": "toronto = toronto[['Postal Code','Borough','Neighbourhood']]\ntoronto.head()",
            "execution_count": 68,
            "outputs": [
                {
                    "output_type": "execute_result",
                    "execution_count": 68,
                    "data": {
                        "text/plain": "  Postal Code           Borough              Neighbourhood\n0         M1A               NaN                        NaN\n1         M2A               NaN                        NaN\n2         M3A        North York                  Parkwoods\n3         M4A        North York           Victoria Village\n4         M5A  Downtown Toronto  Regent Park, Harbourfront",
                        "text/html": "<div>\n<style scoped>\n    .dataframe tbody tr th:only-of-type {\n        vertical-align: middle;\n    }\n\n    .dataframe tbody tr th {\n        vertical-align: top;\n    }\n\n    .dataframe thead th {\n        text-align: right;\n    }\n</style>\n<table border=\"1\" class=\"dataframe\">\n  <thead>\n    <tr style=\"text-align: right;\">\n      <th></th>\n      <th>Postal Code</th>\n      <th>Borough</th>\n      <th>Neighbourhood</th>\n    </tr>\n  </thead>\n  <tbody>\n    <tr>\n      <th>0</th>\n      <td>M1A</td>\n      <td>NaN</td>\n      <td>NaN</td>\n    </tr>\n    <tr>\n      <th>1</th>\n      <td>M2A</td>\n      <td>NaN</td>\n      <td>NaN</td>\n    </tr>\n    <tr>\n      <th>2</th>\n      <td>M3A</td>\n      <td>North York</td>\n      <td>Parkwoods</td>\n    </tr>\n    <tr>\n      <th>3</th>\n      <td>M4A</td>\n      <td>North York</td>\n      <td>Victoria Village</td>\n    </tr>\n    <tr>\n      <th>4</th>\n      <td>M5A</td>\n      <td>Downtown Toronto</td>\n      <td>Regent Park, Harbourfront</td>\n    </tr>\n  </tbody>\n</table>\n</div>"
                    },
                    "metadata": {}
                }
            ]
        },
        {
            "metadata": {},
            "cell_type": "markdown",
            "source": "#### Getting the original size of the data set"
        },
        {
            "metadata": {},
            "cell_type": "code",
            "source": "toronto.shape[0]",
            "execution_count": 69,
            "outputs": [
                {
                    "output_type": "execute_result",
                    "execution_count": 69,
                    "data": {
                        "text/plain": "180"
                    },
                    "metadata": {}
                }
            ]
        },
        {
            "metadata": {},
            "cell_type": "markdown",
            "source": "#### Replacing Not Assigned values with NaN and dropping the NaNs"
        },
        {
            "metadata": {},
            "cell_type": "code",
            "source": "toronto.replace(\"Not assigned\", np.nan, inplace = True)\ntoronto.head(5)",
            "execution_count": 70,
            "outputs": [
                {
                    "output_type": "execute_result",
                    "execution_count": 70,
                    "data": {
                        "text/plain": "  Postal Code           Borough              Neighbourhood\n0         M1A               NaN                        NaN\n1         M2A               NaN                        NaN\n2         M3A        North York                  Parkwoods\n3         M4A        North York           Victoria Village\n4         M5A  Downtown Toronto  Regent Park, Harbourfront",
                        "text/html": "<div>\n<style scoped>\n    .dataframe tbody tr th:only-of-type {\n        vertical-align: middle;\n    }\n\n    .dataframe tbody tr th {\n        vertical-align: top;\n    }\n\n    .dataframe thead th {\n        text-align: right;\n    }\n</style>\n<table border=\"1\" class=\"dataframe\">\n  <thead>\n    <tr style=\"text-align: right;\">\n      <th></th>\n      <th>Postal Code</th>\n      <th>Borough</th>\n      <th>Neighbourhood</th>\n    </tr>\n  </thead>\n  <tbody>\n    <tr>\n      <th>0</th>\n      <td>M1A</td>\n      <td>NaN</td>\n      <td>NaN</td>\n    </tr>\n    <tr>\n      <th>1</th>\n      <td>M2A</td>\n      <td>NaN</td>\n      <td>NaN</td>\n    </tr>\n    <tr>\n      <th>2</th>\n      <td>M3A</td>\n      <td>North York</td>\n      <td>Parkwoods</td>\n    </tr>\n    <tr>\n      <th>3</th>\n      <td>M4A</td>\n      <td>North York</td>\n      <td>Victoria Village</td>\n    </tr>\n    <tr>\n      <th>4</th>\n      <td>M5A</td>\n      <td>Downtown Toronto</td>\n      <td>Regent Park, Harbourfront</td>\n    </tr>\n  </tbody>\n</table>\n</div>"
                    },
                    "metadata": {}
                }
            ]
        },
        {
            "metadata": {},
            "cell_type": "code",
            "source": "toronto2 = toronto.dropna()",
            "execution_count": 71,
            "outputs": []
        },
        {
            "metadata": {},
            "cell_type": "code",
            "source": "toronto2.head()",
            "execution_count": 72,
            "outputs": [
                {
                    "output_type": "execute_result",
                    "execution_count": 72,
                    "data": {
                        "text/plain": "  Postal Code           Borough                                Neighbourhood\n2         M3A        North York                                    Parkwoods\n3         M4A        North York                             Victoria Village\n4         M5A  Downtown Toronto                    Regent Park, Harbourfront\n5         M6A        North York             Lawrence Manor, Lawrence Heights\n6         M7A  Downtown Toronto  Queen's Park, Ontario Provincial Government",
                        "text/html": "<div>\n<style scoped>\n    .dataframe tbody tr th:only-of-type {\n        vertical-align: middle;\n    }\n\n    .dataframe tbody tr th {\n        vertical-align: top;\n    }\n\n    .dataframe thead th {\n        text-align: right;\n    }\n</style>\n<table border=\"1\" class=\"dataframe\">\n  <thead>\n    <tr style=\"text-align: right;\">\n      <th></th>\n      <th>Postal Code</th>\n      <th>Borough</th>\n      <th>Neighbourhood</th>\n    </tr>\n  </thead>\n  <tbody>\n    <tr>\n      <th>2</th>\n      <td>M3A</td>\n      <td>North York</td>\n      <td>Parkwoods</td>\n    </tr>\n    <tr>\n      <th>3</th>\n      <td>M4A</td>\n      <td>North York</td>\n      <td>Victoria Village</td>\n    </tr>\n    <tr>\n      <th>4</th>\n      <td>M5A</td>\n      <td>Downtown Toronto</td>\n      <td>Regent Park, Harbourfront</td>\n    </tr>\n    <tr>\n      <th>5</th>\n      <td>M6A</td>\n      <td>North York</td>\n      <td>Lawrence Manor, Lawrence Heights</td>\n    </tr>\n    <tr>\n      <th>6</th>\n      <td>M7A</td>\n      <td>Downtown Toronto</td>\n      <td>Queen's Park, Ontario Provincial Government</td>\n    </tr>\n  </tbody>\n</table>\n</div>"
                    },
                    "metadata": {}
                }
            ]
        },
        {
            "metadata": {},
            "cell_type": "code",
            "source": "toronto2.shape",
            "execution_count": 73,
            "outputs": [
                {
                    "output_type": "execute_result",
                    "execution_count": 73,
                    "data": {
                        "text/plain": "(103, 3)"
                    },
                    "metadata": {}
                }
            ]
        },
        {
            "metadata": {},
            "cell_type": "markdown",
            "source": "#### Checking for duplicates in Postal Code in order to merge values of neighbourhoods"
        },
        {
            "metadata": {},
            "cell_type": "code",
            "source": "toronto2.duplicated(subset='Postal Code', keep='first')",
            "execution_count": 104,
            "outputs": [
                {
                    "output_type": "execute_result",
                    "execution_count": 104,
                    "data": {
                        "text/plain": "2      False\n3      False\n4      False\n5      False\n6      False\n8      False\n9      False\n11     False\n12     False\n13     False\n14     False\n17     False\n18     False\n20     False\n21     False\n22     False\n23     False\n26     False\n27     False\n30     False\n31     False\n32     False\n36     False\n39     False\n40     False\n41     False\n45     False\n46     False\n47     False\n48     False\n49     False\n50     False\n54     False\n55     False\n56     False\n57     False\n58     False\n59     False\n63     False\n64     False\n65     False\n66     False\n67     False\n68     False\n72     False\n73     False\n74     False\n75     False\n76     False\n77     False\n80     False\n81     False\n82     False\n83     False\n84     False\n85     False\n86     False\n89     False\n90     False\n91     False\n92     False\n93     False\n94     False\n95     False\n98     False\n99     False\n100    False\n102    False\n103    False\n104    False\n107    False\n108    False\n109    False\n111    False\n112    False\n113    False\n114    False\n116    False\n117    False\n120    False\n121    False\n122    False\n126    False\n129    False\n130    False\n135    False\n138    False\n139    False\n142    False\n143    False\n144    False\n147    False\n148    False\n151    False\n152    False\n153    False\n156    False\n157    False\n160    False\n165    False\n168    False\n169    False\n178    False\ndtype: bool"
                    },
                    "metadata": {}
                }
            ]
        },
        {
            "metadata": {},
            "cell_type": "markdown",
            "source": "#### Check for any not assigned values in the neighbourhood column to equal it to its borough"
        },
        {
            "metadata": {},
            "cell_type": "code",
            "source": "toronto2['Neighbourhood'].isnull().values.any()",
            "execution_count": 105,
            "outputs": [
                {
                    "output_type": "execute_result",
                    "execution_count": 105,
                    "data": {
                        "text/plain": "False"
                    },
                    "metadata": {}
                }
            ]
        },
        {
            "metadata": {},
            "cell_type": "markdown",
            "source": "#### The final size of the data set as there was no need to further merge neighborhood values"
        },
        {
            "metadata": {},
            "cell_type": "code",
            "source": "size = toronto2.shape\nprint('The row size of this clean data set is now: ',size[0], 'and there are',size[1],'columns.')",
            "execution_count": 106,
            "outputs": [
                {
                    "output_type": "stream",
                    "text": "The row size of this clean data set is now:  103 and there are 3 columns.\n",
                    "name": "stdout"
                }
            ]
        },
        {
            "metadata": {},
            "cell_type": "code",
            "source": "",
            "execution_count": null,
            "outputs": []
        }
    ],
    "metadata": {
        "kernelspec": {
            "name": "python3",
            "display_name": "Python 3.6",
            "language": "python"
        },
        "language_info": {
            "name": "python",
            "version": "3.6.9",
            "mimetype": "text/x-python",
            "codemirror_mode": {
                "name": "ipython",
                "version": 3
            },
            "pygments_lexer": "ipython3",
            "nbconvert_exporter": "python",
            "file_extension": ".py"
        }
    },
    "nbformat": 4,
    "nbformat_minor": 1
}